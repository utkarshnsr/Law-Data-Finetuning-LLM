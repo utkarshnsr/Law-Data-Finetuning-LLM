{
 "cells": [
  {
   "cell_type": "code",
   "execution_count": 2,
   "metadata": {},
   "outputs": [],
   "source": [
    "from langchain_community.llms import Ollama\n",
    "from bs4 import BeautifulSoup\n",
    "import requests"
   ]
  },
  {
   "cell_type": "code",
   "execution_count": 3,
   "metadata": {},
   "outputs": [],
   "source": [
    "def remove_tags(html):\n",
    "\n",
    "    # parse html content\n",
    "    soup = BeautifulSoup(html, \"html.parser\")\n",
    "\n",
    "    for data in soup(['style', 'script']):\n",
    "        # Remove tags\n",
    "        data.decompose()\n",
    "\n",
    "    # return data by retrieving the tag content\n",
    "    return ' '.join(soup.stripped_strings)"
   ]
  },
  {
   "cell_type": "code",
   "execution_count": 4,
   "metadata": {},
   "outputs": [],
   "source": [
    "def getNumberOfSectionsPerChapter(chapterNumber):\n",
    "  chapterUrl = \"https://uscode.house.gov/view.xhtml?req=granuleid%3AUSC-prelim-title18-chapter\" + str(chapterNumber) + \"&saved=L3ByZWxpbUB0aXRsZTE4L3BhcnQx%7CZ3JhbnVsZWlkOlVTQy1wcmVsaW0tdGl0bGUxOC1wYXJ0MQ%3D%3D%7C%7C%7C0%7Cfalse%7Cprelim&edition=prelim\"\n",
    "  page = requests.get(chapterUrl)\n",
    "  soup = BeautifulSoup(page.content, \"html.parser\")\n",
    "  titleTags = soup.find_all(\"h3\", class_=\"section-head\")\n",
    "  return len(titleTags)\n",
    "  \n",
    "\n",
    "\n",
    "def getAllSectionHeaders():\n",
    "  sectionTitles = []\n",
    "  url = \"https://uscode.house.gov/view.xhtml?path=/prelim@title18/part1&edition=prelim\"\n",
    "  page = requests.get(url)\n",
    "  soup = BeautifulSoup(page.content, \"html.parser\")\n",
    "  titleTags = soup.find_all(\"h3\", class_=\"section-head\")\n",
    "  for title in titleTags:\n",
    "    sectionTitles.append(title.text)\n",
    "  return sectionTitles "
   ]
  },
  {
   "cell_type": "code",
   "execution_count": 5,
   "metadata": {},
   "outputs": [],
   "source": [
    "#this method basically gets all the content from a part\n",
    "def getPart():\n",
    "   url = \"https://uscode.house.gov/view.xhtml?hl=false&edition=prelim&req=granuleid%3AUSC-prelim-title18-chapter1&num=0&saved=L3ByZWxpbUB0aXRsZTE4L3BhcnQx%7CZ3JhbnVsZWlkOlVTQy1wcmVsaW0tdGl0bGUxOC1wYXJ0MQ%3D%3D%7C%7C%7C0%7Cfalse%7Cprelim\"\n",
    "   page = requests.get(url)\n",
    "   pageText = remove_tags(page.content)\n",
    "   return pageText\n",
    "  #  f = open(\"part1Content.txt\", \"w\")\n",
    "  #  f.write(pageText)\n",
    "  #  f.close()"
   ]
  },
  {
   "cell_type": "code",
   "execution_count": 6,
   "metadata": {},
   "outputs": [],
   "source": [
    "def getSectionInfo(sectionStart, sectionEnd, legalSections):\n",
    "  for sec in range(sectionStart, sectionEnd+1):\n",
    "    sectionURL = \"https://uscode.house.gov/view.xhtml?hl=false&edition=prelim&req=granuleid%3AUSC-prelim-title18-section\" + str(sec) + \"&num=0&saved=%7CZ3JhbnVsZWlkOlVTQy1wcmVsaW0tdGl0bGUxOC1zZWN0aW9uNw%3D%3D%7C%7C%7C0%7Cfalse%7Cprelim\"\n",
    "    page = requests.get(sectionURL)\n",
    "    soup = BeautifulSoup(page.content, \"html.parser\")\n",
    "    sectionTitle = soup.title.string\n",
    "    if (\"Repealed\" not in sectionTitle):\n",
    "      legalSectionTitle = \"Section \" + str(sec) + \": \" + sectionTitle\n",
    "      sectionDescription = soup.find_all(\"p\", class_='statutory-body')\n",
    "      legalSectionDescription = \"Section \" + str(sec) + \": \"\n",
    "      for item in sectionDescription:\n",
    "        legalSectionDescription += item.text\n",
    "        legalSectionDescription += \"\\n\"\n",
    "      legalSections[legalSectionTitle] = legalSectionDescription\n",
    "    else:\n",
    "      continue\n",
    "  print(\"retrieved all section info\")"
   ]
  },
  {
   "cell_type": "code",
   "execution_count": 67,
   "metadata": {},
   "outputs": [],
   "source": [
    "import google.generativeai as genai\n",
    "import os\n",
    "from dotenv import load_dotenv, dotenv_values \n",
    "\n",
    "def getAllSectionHeaders():\n",
    "  sectionTitles = []\n",
    "  url = \"https://uscode.house.gov/view.xhtml?path=/prelim@title18/part1&edition=prelim\"\n",
    "  page = requests.get(url)\n",
    "  soup = BeautifulSoup(page.content, \"html.parser\")\n",
    "  titleTags = soup.find_all(\"h3\", class_=\"section-head\")\n",
    "  for title in titleTags:\n",
    "    sectionTitles.append(title.text)\n",
    "  return sectionTitles \n",
    "\n",
    "def generateGeminiResponse(extractedText):\n",
    "    load_dotenv()\n",
    "    genai.configure(api_key = os.getenv(\"GEMINI_API_KEY\"))\n",
    "    prompt = f\"\"\"\n",
    "      Text:\n",
    "      {extractedText}\n",
    "\n",
    "      Instruction:\n",
    "      For each section from 1 to 27 provided in the text, do the following:\n",
    "      1. Generate a question based only on the section's content.\n",
    "      2. Provide the answer to the question, based strictly on the section's information.\n",
    "      3. Format the response as a Python list, where each item is a dictionary with:\n",
    "        - A key \"input\" containing the generated question.\n",
    "        - A key \"output\" containing the corresponding answer.\n",
    "\n",
    "      Ensure that every section is covered and no information is drawn from outside the provided text. Please do not provide any other information other than just the list (no other text).\n",
    "      STRICTLY RETURN ONLY THE LIST WITH DICTIONARIES AND NOTHING ELSE. GENERATE 100S of examples\n",
    "      \n",
    "      \n",
    "      Example output:\n",
    "      [\n",
    "          {{\n",
    "              \"input\": \"What is the maximum penalty for being an accessory after the fact under Section 3?\",\n",
    "              \"output\": \"An accessory after the fact can be imprisoned for up to half of the principal's punishment, or up to 15 years if the principal is punishable by life imprisonment or death.\"\n",
    "          }},\n",
    "          {{\n",
    "              \"input\": \"What is defined as 'United States' in Section 5 of Title 18?\",\n",
    "              \"output\": \"The term 'United States' includes all places and waters subject to U.S. jurisdiction, except the Canal Zone.\"\n",
    "          }}\n",
    "      ]\n",
    "      \"\"\"\n",
    "\n",
    "    model = genai.GenerativeModel(\"gemini-1.5-flash\")\n",
    "    llmResponse = model.generate_content(prompt)\n",
    "    return llmResponse"
   ]
  },
  {
   "cell_type": "code",
   "execution_count": 8,
   "metadata": {},
   "outputs": [
    {
     "name": "stdout",
     "output_type": "stream",
     "text": [
      "True\n"
     ]
    }
   ],
   "source": [
    "import torch\n",
    "print(torch.backends.mps.is_available())"
   ]
  },
  {
   "cell_type": "code",
   "execution_count": 9,
   "metadata": {},
   "outputs": [
    {
     "name": "stdout",
     "output_type": "stream",
     "text": [
      "mps used\n",
      "retrieved all section info\n"
     ]
    },
    {
     "ename": "DefaultCredentialsError",
     "evalue": "\n  No API_KEY or ADC found. Please either:\n    - Set the `GOOGLE_API_KEY` environment variable.\n    - Manually pass the key with `genai.configure(api_key=my_api_key)`.\n    - Or set up Application Default Credentials, see https://ai.google.dev/gemini-api/docs/oauth for more information.",
     "output_type": "error",
     "traceback": [
      "\u001b[0;31m---------------------------------------------------------------------------\u001b[0m",
      "\u001b[0;31mDefaultCredentialsError\u001b[0m                   Traceback (most recent call last)",
      "Cell \u001b[0;32mIn[9], line 23\u001b[0m\n\u001b[1;32m     21\u001b[0m     textContent \u001b[38;5;241m=\u001b[39m \u001b[38;5;124mf\u001b[39m\u001b[38;5;124m\"\u001b[39m\u001b[38;5;124mTitle: \u001b[39m\u001b[38;5;132;01m{\u001b[39;00mtitle\u001b[38;5;132;01m}\u001b[39;00m\u001b[38;5;130;01m\\n\u001b[39;00m\u001b[38;5;124mContent: \u001b[39m\u001b[38;5;132;01m{\u001b[39;00mcontent\u001b[38;5;132;01m}\u001b[39;00m\u001b[38;5;130;01m\\n\u001b[39;00m\u001b[38;5;124m\"\u001b[39m\n\u001b[1;32m     22\u001b[0m     legalSectionsContent \u001b[38;5;241m+\u001b[39m\u001b[38;5;241m=\u001b[39m textContent\n\u001b[0;32m---> 23\u001b[0m llmResponse \u001b[38;5;241m=\u001b[39m generateMistralResponse(legalSectionsContent)\n\u001b[1;32m     24\u001b[0m \u001b[38;5;28mprint\u001b[39m(llmResponse\u001b[38;5;241m.\u001b[39m_result)\n",
      "Cell \u001b[0;32mIn[7], line 43\u001b[0m, in \u001b[0;36mgenerateMistralResponse\u001b[0;34m(extractedText)\u001b[0m\n\u001b[1;32m     13\u001b[0m prompt \u001b[38;5;241m=\u001b[39m \u001b[38;5;124mf\u001b[39m\u001b[38;5;124m\"\"\"\u001b[39m\n\u001b[1;32m     14\u001b[0m \u001b[38;5;124m  Text:\u001b[39m\n\u001b[1;32m     15\u001b[0m \u001b[38;5;124m  \u001b[39m\u001b[38;5;132;01m{\u001b[39;00mextractedText\u001b[38;5;132;01m}\u001b[39;00m\n\u001b[0;32m   (...)\u001b[0m\n\u001b[1;32m     39\u001b[0m \u001b[38;5;124m  ]\u001b[39m\n\u001b[1;32m     40\u001b[0m \u001b[38;5;124m  \u001b[39m\u001b[38;5;124m\"\"\"\u001b[39m\n\u001b[1;32m     42\u001b[0m model \u001b[38;5;241m=\u001b[39m genai\u001b[38;5;241m.\u001b[39mGenerativeModel(\u001b[38;5;124m\"\u001b[39m\u001b[38;5;124mgemini-1.5-flash\u001b[39m\u001b[38;5;124m\"\u001b[39m)\n\u001b[0;32m---> 43\u001b[0m llmResponse \u001b[38;5;241m=\u001b[39m model\u001b[38;5;241m.\u001b[39mgenerate_content(prompt)\n\u001b[1;32m     44\u001b[0m \u001b[38;5;28;01mreturn\u001b[39;00m llmResponse\n",
      "File \u001b[0;32m/opt/anaconda3/lib/python3.11/site-packages/google/generativeai/generative_models.py:244\u001b[0m, in \u001b[0;36mGenerativeModel.generate_content\u001b[0;34m(self, contents, generation_config, safety_settings, stream, tools, tool_config, request_options)\u001b[0m\n\u001b[1;32m    236\u001b[0m request \u001b[38;5;241m=\u001b[39m \u001b[38;5;28mself\u001b[39m\u001b[38;5;241m.\u001b[39m_prepare_request(\n\u001b[1;32m    237\u001b[0m     contents\u001b[38;5;241m=\u001b[39mcontents,\n\u001b[1;32m    238\u001b[0m     generation_config\u001b[38;5;241m=\u001b[39mgeneration_config,\n\u001b[0;32m   (...)\u001b[0m\n\u001b[1;32m    241\u001b[0m     tool_config\u001b[38;5;241m=\u001b[39mtool_config,\n\u001b[1;32m    242\u001b[0m )\n\u001b[1;32m    243\u001b[0m \u001b[38;5;28;01mif\u001b[39;00m \u001b[38;5;28mself\u001b[39m\u001b[38;5;241m.\u001b[39m_client \u001b[38;5;129;01mis\u001b[39;00m \u001b[38;5;28;01mNone\u001b[39;00m:\n\u001b[0;32m--> 244\u001b[0m     \u001b[38;5;28mself\u001b[39m\u001b[38;5;241m.\u001b[39m_client \u001b[38;5;241m=\u001b[39m client\u001b[38;5;241m.\u001b[39mget_default_generative_client()\n\u001b[1;32m    246\u001b[0m \u001b[38;5;28;01mif\u001b[39;00m request_options \u001b[38;5;129;01mis\u001b[39;00m \u001b[38;5;28;01mNone\u001b[39;00m:\n\u001b[1;32m    247\u001b[0m     request_options \u001b[38;5;241m=\u001b[39m {}\n",
      "File \u001b[0;32m/opt/anaconda3/lib/python3.11/site-packages/google/generativeai/client.py:335\u001b[0m, in \u001b[0;36mget_default_generative_client\u001b[0;34m()\u001b[0m\n\u001b[1;32m    334\u001b[0m \u001b[38;5;28;01mdef\u001b[39;00m \u001b[38;5;21mget_default_generative_client\u001b[39m() \u001b[38;5;241m-\u001b[39m\u001b[38;5;241m>\u001b[39m glm\u001b[38;5;241m.\u001b[39mGenerativeServiceClient:\n\u001b[0;32m--> 335\u001b[0m     \u001b[38;5;28;01mreturn\u001b[39;00m _client_manager\u001b[38;5;241m.\u001b[39mget_default_client(\u001b[38;5;124m\"\u001b[39m\u001b[38;5;124mgenerative\u001b[39m\u001b[38;5;124m\"\u001b[39m)\n",
      "File \u001b[0;32m/opt/anaconda3/lib/python3.11/site-packages/google/generativeai/client.py:259\u001b[0m, in \u001b[0;36m_ClientManager.get_default_client\u001b[0;34m(self, name)\u001b[0m\n\u001b[1;32m    257\u001b[0m client \u001b[38;5;241m=\u001b[39m \u001b[38;5;28mself\u001b[39m\u001b[38;5;241m.\u001b[39mclients\u001b[38;5;241m.\u001b[39mget(name)\n\u001b[1;32m    258\u001b[0m \u001b[38;5;28;01mif\u001b[39;00m client \u001b[38;5;129;01mis\u001b[39;00m \u001b[38;5;28;01mNone\u001b[39;00m:\n\u001b[0;32m--> 259\u001b[0m     client \u001b[38;5;241m=\u001b[39m \u001b[38;5;28mself\u001b[39m\u001b[38;5;241m.\u001b[39mmake_client(name)\n\u001b[1;32m    260\u001b[0m     \u001b[38;5;28mself\u001b[39m\u001b[38;5;241m.\u001b[39mclients[name] \u001b[38;5;241m=\u001b[39m client\n\u001b[1;32m    261\u001b[0m \u001b[38;5;28;01mreturn\u001b[39;00m client\n",
      "File \u001b[0;32m/opt/anaconda3/lib/python3.11/site-packages/google/generativeai/client.py:217\u001b[0m, in \u001b[0;36m_ClientManager.make_client\u001b[0;34m(self, name)\u001b[0m\n\u001b[1;32m    210\u001b[0m \u001b[38;5;28;01mexcept\u001b[39;00m ga_exceptions\u001b[38;5;241m.\u001b[39mDefaultCredentialsError \u001b[38;5;28;01mas\u001b[39;00m e:\n\u001b[1;32m    211\u001b[0m     e\u001b[38;5;241m.\u001b[39margs \u001b[38;5;241m=\u001b[39m (\n\u001b[1;32m    212\u001b[0m         \u001b[38;5;124m\"\u001b[39m\u001b[38;5;130;01m\\n\u001b[39;00m\u001b[38;5;124m  No API_KEY or ADC found. Please either:\u001b[39m\u001b[38;5;130;01m\\n\u001b[39;00m\u001b[38;5;124m\"\u001b[39m\n\u001b[1;32m    213\u001b[0m         \u001b[38;5;124m\"\u001b[39m\u001b[38;5;124m    - Set the `GOOGLE_API_KEY` environment variable.\u001b[39m\u001b[38;5;130;01m\\n\u001b[39;00m\u001b[38;5;124m\"\u001b[39m\n\u001b[1;32m    214\u001b[0m         \u001b[38;5;124m\"\u001b[39m\u001b[38;5;124m    - Manually pass the key with `genai.configure(api_key=my_api_key)`.\u001b[39m\u001b[38;5;130;01m\\n\u001b[39;00m\u001b[38;5;124m\"\u001b[39m\n\u001b[1;32m    215\u001b[0m         \u001b[38;5;124m\"\u001b[39m\u001b[38;5;124m    - Or set up Application Default Credentials, see https://ai.google.dev/gemini-api/docs/oauth for more information.\u001b[39m\u001b[38;5;124m\"\u001b[39m,\n\u001b[1;32m    216\u001b[0m     )\n\u001b[0;32m--> 217\u001b[0m     \u001b[38;5;28;01mraise\u001b[39;00m e\n\u001b[1;32m    219\u001b[0m \u001b[38;5;28;01mif\u001b[39;00m \u001b[38;5;129;01mnot\u001b[39;00m \u001b[38;5;28mself\u001b[39m\u001b[38;5;241m.\u001b[39mdefault_metadata:\n\u001b[1;32m    220\u001b[0m     \u001b[38;5;28;01mreturn\u001b[39;00m client\n",
      "File \u001b[0;32m/opt/anaconda3/lib/python3.11/site-packages/google/generativeai/client.py:209\u001b[0m, in \u001b[0;36m_ClientManager.make_client\u001b[0;34m(self, name)\u001b[0m\n\u001b[1;32m    207\u001b[0m \u001b[38;5;28;01mtry\u001b[39;00m:\n\u001b[1;32m    208\u001b[0m     \u001b[38;5;28;01mwith\u001b[39;00m patch_colab_gce_credentials():\n\u001b[0;32m--> 209\u001b[0m         client \u001b[38;5;241m=\u001b[39m \u001b[38;5;28mcls\u001b[39m(\u001b[38;5;241m*\u001b[39m\u001b[38;5;241m*\u001b[39m\u001b[38;5;28mself\u001b[39m\u001b[38;5;241m.\u001b[39mclient_config)\n\u001b[1;32m    210\u001b[0m \u001b[38;5;28;01mexcept\u001b[39;00m ga_exceptions\u001b[38;5;241m.\u001b[39mDefaultCredentialsError \u001b[38;5;28;01mas\u001b[39;00m e:\n\u001b[1;32m    211\u001b[0m     e\u001b[38;5;241m.\u001b[39margs \u001b[38;5;241m=\u001b[39m (\n\u001b[1;32m    212\u001b[0m         \u001b[38;5;124m\"\u001b[39m\u001b[38;5;130;01m\\n\u001b[39;00m\u001b[38;5;124m  No API_KEY or ADC found. Please either:\u001b[39m\u001b[38;5;130;01m\\n\u001b[39;00m\u001b[38;5;124m\"\u001b[39m\n\u001b[1;32m    213\u001b[0m         \u001b[38;5;124m\"\u001b[39m\u001b[38;5;124m    - Set the `GOOGLE_API_KEY` environment variable.\u001b[39m\u001b[38;5;130;01m\\n\u001b[39;00m\u001b[38;5;124m\"\u001b[39m\n\u001b[1;32m    214\u001b[0m         \u001b[38;5;124m\"\u001b[39m\u001b[38;5;124m    - Manually pass the key with `genai.configure(api_key=my_api_key)`.\u001b[39m\u001b[38;5;130;01m\\n\u001b[39;00m\u001b[38;5;124m\"\u001b[39m\n\u001b[1;32m    215\u001b[0m         \u001b[38;5;124m\"\u001b[39m\u001b[38;5;124m    - Or set up Application Default Credentials, see https://ai.google.dev/gemini-api/docs/oauth for more information.\u001b[39m\u001b[38;5;124m\"\u001b[39m,\n\u001b[1;32m    216\u001b[0m     )\n",
      "File \u001b[0;32m/opt/anaconda3/lib/python3.11/site-packages/google/ai/generativelanguage_v1beta/services/generative_service/client.py:672\u001b[0m, in \u001b[0;36mGenerativeServiceClient.__init__\u001b[0;34m(self, credentials, transport, client_options, client_info)\u001b[0m\n\u001b[1;32m    663\u001b[0m transport_init: Union[\n\u001b[1;32m    664\u001b[0m     Type[GenerativeServiceTransport],\n\u001b[1;32m    665\u001b[0m     Callable[\u001b[38;5;241m.\u001b[39m\u001b[38;5;241m.\u001b[39m\u001b[38;5;241m.\u001b[39m, GenerativeServiceTransport],\n\u001b[0;32m   (...)\u001b[0m\n\u001b[1;32m    669\u001b[0m     \u001b[38;5;28;01melse\u001b[39;00m cast(Callable[\u001b[38;5;241m.\u001b[39m\u001b[38;5;241m.\u001b[39m\u001b[38;5;241m.\u001b[39m, GenerativeServiceTransport], transport)\n\u001b[1;32m    670\u001b[0m )\n\u001b[1;32m    671\u001b[0m \u001b[38;5;66;03m# initialize with the provided callable or the passed in class\u001b[39;00m\n\u001b[0;32m--> 672\u001b[0m \u001b[38;5;28mself\u001b[39m\u001b[38;5;241m.\u001b[39m_transport \u001b[38;5;241m=\u001b[39m transport_init(\n\u001b[1;32m    673\u001b[0m     credentials\u001b[38;5;241m=\u001b[39mcredentials,\n\u001b[1;32m    674\u001b[0m     credentials_file\u001b[38;5;241m=\u001b[39m\u001b[38;5;28mself\u001b[39m\u001b[38;5;241m.\u001b[39m_client_options\u001b[38;5;241m.\u001b[39mcredentials_file,\n\u001b[1;32m    675\u001b[0m     host\u001b[38;5;241m=\u001b[39m\u001b[38;5;28mself\u001b[39m\u001b[38;5;241m.\u001b[39m_api_endpoint,\n\u001b[1;32m    676\u001b[0m     scopes\u001b[38;5;241m=\u001b[39m\u001b[38;5;28mself\u001b[39m\u001b[38;5;241m.\u001b[39m_client_options\u001b[38;5;241m.\u001b[39mscopes,\n\u001b[1;32m    677\u001b[0m     client_cert_source_for_mtls\u001b[38;5;241m=\u001b[39m\u001b[38;5;28mself\u001b[39m\u001b[38;5;241m.\u001b[39m_client_cert_source,\n\u001b[1;32m    678\u001b[0m     quota_project_id\u001b[38;5;241m=\u001b[39m\u001b[38;5;28mself\u001b[39m\u001b[38;5;241m.\u001b[39m_client_options\u001b[38;5;241m.\u001b[39mquota_project_id,\n\u001b[1;32m    679\u001b[0m     client_info\u001b[38;5;241m=\u001b[39mclient_info,\n\u001b[1;32m    680\u001b[0m     always_use_jwt_access\u001b[38;5;241m=\u001b[39m\u001b[38;5;28;01mTrue\u001b[39;00m,\n\u001b[1;32m    681\u001b[0m     api_audience\u001b[38;5;241m=\u001b[39m\u001b[38;5;28mself\u001b[39m\u001b[38;5;241m.\u001b[39m_client_options\u001b[38;5;241m.\u001b[39mapi_audience,\n\u001b[1;32m    682\u001b[0m )\n",
      "File \u001b[0;32m/opt/anaconda3/lib/python3.11/site-packages/google/ai/generativelanguage_v1beta/services/generative_service/transports/grpc.py:153\u001b[0m, in \u001b[0;36mGenerativeServiceGrpcTransport.__init__\u001b[0;34m(self, host, credentials, credentials_file, scopes, channel, api_mtls_endpoint, client_cert_source, ssl_channel_credentials, client_cert_source_for_mtls, quota_project_id, client_info, always_use_jwt_access, api_audience)\u001b[0m\n\u001b[1;32m    148\u001b[0m             \u001b[38;5;28mself\u001b[39m\u001b[38;5;241m.\u001b[39m_ssl_channel_credentials \u001b[38;5;241m=\u001b[39m grpc\u001b[38;5;241m.\u001b[39mssl_channel_credentials(\n\u001b[1;32m    149\u001b[0m                 certificate_chain\u001b[38;5;241m=\u001b[39mcert, private_key\u001b[38;5;241m=\u001b[39mkey\n\u001b[1;32m    150\u001b[0m             )\n\u001b[1;32m    152\u001b[0m \u001b[38;5;66;03m# The base transport sets the host, credentials and scopes\u001b[39;00m\n\u001b[0;32m--> 153\u001b[0m \u001b[38;5;28msuper\u001b[39m()\u001b[38;5;241m.\u001b[39m\u001b[38;5;21m__init__\u001b[39m(\n\u001b[1;32m    154\u001b[0m     host\u001b[38;5;241m=\u001b[39mhost,\n\u001b[1;32m    155\u001b[0m     credentials\u001b[38;5;241m=\u001b[39mcredentials,\n\u001b[1;32m    156\u001b[0m     credentials_file\u001b[38;5;241m=\u001b[39mcredentials_file,\n\u001b[1;32m    157\u001b[0m     scopes\u001b[38;5;241m=\u001b[39mscopes,\n\u001b[1;32m    158\u001b[0m     quota_project_id\u001b[38;5;241m=\u001b[39mquota_project_id,\n\u001b[1;32m    159\u001b[0m     client_info\u001b[38;5;241m=\u001b[39mclient_info,\n\u001b[1;32m    160\u001b[0m     always_use_jwt_access\u001b[38;5;241m=\u001b[39malways_use_jwt_access,\n\u001b[1;32m    161\u001b[0m     api_audience\u001b[38;5;241m=\u001b[39mapi_audience,\n\u001b[1;32m    162\u001b[0m )\n\u001b[1;32m    164\u001b[0m \u001b[38;5;28;01mif\u001b[39;00m \u001b[38;5;129;01mnot\u001b[39;00m \u001b[38;5;28mself\u001b[39m\u001b[38;5;241m.\u001b[39m_grpc_channel:\n\u001b[1;32m    165\u001b[0m     \u001b[38;5;66;03m# initialize with the provided callable or the default channel\u001b[39;00m\n\u001b[1;32m    166\u001b[0m     channel_init \u001b[38;5;241m=\u001b[39m channel \u001b[38;5;129;01mor\u001b[39;00m \u001b[38;5;28mtype\u001b[39m(\u001b[38;5;28mself\u001b[39m)\u001b[38;5;241m.\u001b[39mcreate_channel\n",
      "File \u001b[0;32m/opt/anaconda3/lib/python3.11/site-packages/google/ai/generativelanguage_v1beta/services/generative_service/transports/base.py:98\u001b[0m, in \u001b[0;36mGenerativeServiceTransport.__init__\u001b[0;34m(self, host, credentials, credentials_file, scopes, quota_project_id, client_info, always_use_jwt_access, api_audience, **kwargs)\u001b[0m\n\u001b[1;32m     94\u001b[0m     credentials, _ \u001b[38;5;241m=\u001b[39m google\u001b[38;5;241m.\u001b[39mauth\u001b[38;5;241m.\u001b[39mload_credentials_from_file(\n\u001b[1;32m     95\u001b[0m         credentials_file, \u001b[38;5;241m*\u001b[39m\u001b[38;5;241m*\u001b[39mscopes_kwargs, quota_project_id\u001b[38;5;241m=\u001b[39mquota_project_id\n\u001b[1;32m     96\u001b[0m     )\n\u001b[1;32m     97\u001b[0m \u001b[38;5;28;01melif\u001b[39;00m credentials \u001b[38;5;129;01mis\u001b[39;00m \u001b[38;5;28;01mNone\u001b[39;00m:\n\u001b[0;32m---> 98\u001b[0m     credentials, _ \u001b[38;5;241m=\u001b[39m google\u001b[38;5;241m.\u001b[39mauth\u001b[38;5;241m.\u001b[39mdefault(\n\u001b[1;32m     99\u001b[0m         \u001b[38;5;241m*\u001b[39m\u001b[38;5;241m*\u001b[39mscopes_kwargs, quota_project_id\u001b[38;5;241m=\u001b[39mquota_project_id\n\u001b[1;32m    100\u001b[0m     )\n\u001b[1;32m    101\u001b[0m     \u001b[38;5;66;03m# Don't apply audience if the credentials file passed from user.\u001b[39;00m\n\u001b[1;32m    102\u001b[0m     \u001b[38;5;28;01mif\u001b[39;00m \u001b[38;5;28mhasattr\u001b[39m(credentials, \u001b[38;5;124m\"\u001b[39m\u001b[38;5;124mwith_gdch_audience\u001b[39m\u001b[38;5;124m\"\u001b[39m):\n",
      "File \u001b[0;32m/opt/anaconda3/lib/python3.11/site-packages/google/auth/_default.py:691\u001b[0m, in \u001b[0;36mdefault\u001b[0;34m(scopes, request, quota_project_id, default_scopes)\u001b[0m\n\u001b[1;32m    683\u001b[0m             _LOGGER\u001b[38;5;241m.\u001b[39mwarning(\n\u001b[1;32m    684\u001b[0m                 \u001b[38;5;124m\"\u001b[39m\u001b[38;5;124mNo project ID could be determined. Consider running \u001b[39m\u001b[38;5;124m\"\u001b[39m\n\u001b[1;32m    685\u001b[0m                 \u001b[38;5;124m\"\u001b[39m\u001b[38;5;124m`gcloud config set project` or setting the \u001b[39m\u001b[38;5;132;01m%s\u001b[39;00m\u001b[38;5;124m \u001b[39m\u001b[38;5;124m\"\u001b[39m\n\u001b[1;32m    686\u001b[0m                 \u001b[38;5;124m\"\u001b[39m\u001b[38;5;124menvironment variable\u001b[39m\u001b[38;5;124m\"\u001b[39m,\n\u001b[1;32m    687\u001b[0m                 environment_vars\u001b[38;5;241m.\u001b[39mPROJECT,\n\u001b[1;32m    688\u001b[0m             )\n\u001b[1;32m    689\u001b[0m         \u001b[38;5;28;01mreturn\u001b[39;00m credentials, effective_project_id\n\u001b[0;32m--> 691\u001b[0m \u001b[38;5;28;01mraise\u001b[39;00m exceptions\u001b[38;5;241m.\u001b[39mDefaultCredentialsError(_CLOUD_SDK_MISSING_CREDENTIALS)\n",
      "\u001b[0;31mDefaultCredentialsError\u001b[0m: \n  No API_KEY or ADC found. Please either:\n    - Set the `GOOGLE_API_KEY` environment variable.\n    - Manually pass the key with `genai.configure(api_key=my_api_key)`.\n    - Or set up Application Default Credentials, see https://ai.google.dev/gemini-api/docs/oauth for more information."
     ]
    }
   ],
   "source": [
    "import ast \n",
    "\n",
    "if torch.backends.mps.is_available():\n",
    "    print(\"mps used\")\n",
    "    mps_device = torch.device(\"mps\")\n",
    "else:\n",
    "    mps_device = torch.device(\"cpu\")\n",
    "\n",
    "\n",
    "\n",
    "numberOfSectionsInChapter = getNumberOfSectionsPerChapter(1)\n",
    "i = 1 \n",
    "j = i + 2\n",
    "instructionOutputDataset = []\n",
    "\n",
    "while (j < 5):\n",
    "    legalSections = {}\n",
    "    legalSectionsContent = \"\"\n",
    "    getSectionInfo(i, j, legalSections)\n",
    "    for title, content in list(legalSections.items()):\n",
    "        textContent = f\"Title: {title}\\nContent: {content}\\n\"\n",
    "        legalSectionsContent += textContent\n",
    "    llmResponse = generateGeminiResponse(legalSectionsContent)\n",
    "    print(llmResponse._result)\n",
    "    # llmResponse = ast.literal_eval(llmResponse)\n",
    "    # instructionOutputDataset.append(llmResponse)\n",
    "    # i = j \n",
    "    # j += 2"
   ]
  },
  {
   "cell_type": "code",
   "execution_count": 72,
   "metadata": {},
   "outputs": [
    {
     "name": "stdout",
     "output_type": "stream",
     "text": [
      "mps used\n"
     ]
    },
    {
     "name": "stderr",
     "output_type": "stream",
     "text": [
      "Python-dotenv could not parse statement starting at line 1\n"
     ]
    },
    {
     "name": "stdout",
     "output_type": "stream",
     "text": [
      "retrieved all section info\n"
     ]
    },
    {
     "ename": "InvalidArgument",
     "evalue": "400 API key expired. Please renew the API key. [reason: \"API_KEY_INVALID\"\ndomain: \"googleapis.com\"\nmetadata {\n  key: \"service\"\n  value: \"generativelanguage.googleapis.com\"\n}\n]",
     "output_type": "error",
     "traceback": [
      "\u001b[0;31m---------------------------------------------------------------------------\u001b[0m",
      "\u001b[0;31mInvalidArgument\u001b[0m                           Traceback (most recent call last)",
      "Cell \u001b[0;32mIn[72], line 15\u001b[0m\n\u001b[1;32m     13\u001b[0m     textContent \u001b[38;5;241m=\u001b[39m \u001b[38;5;124mf\u001b[39m\u001b[38;5;124m\"\u001b[39m\u001b[38;5;124mTitle: \u001b[39m\u001b[38;5;132;01m{\u001b[39;00mtitle\u001b[38;5;132;01m}\u001b[39;00m\u001b[38;5;130;01m\\n\u001b[39;00m\u001b[38;5;124mContent: \u001b[39m\u001b[38;5;132;01m{\u001b[39;00mcontent\u001b[38;5;132;01m}\u001b[39;00m\u001b[38;5;130;01m\\n\u001b[39;00m\u001b[38;5;124m\"\u001b[39m\n\u001b[1;32m     14\u001b[0m     legalSectionsContent \u001b[38;5;241m+\u001b[39m\u001b[38;5;241m=\u001b[39m textContent\n\u001b[0;32m---> 15\u001b[0m llmResponse \u001b[38;5;241m=\u001b[39m generateGeminiResponse(legalSectionsContent)\n",
      "Cell \u001b[0;32mIn[67], line 48\u001b[0m, in \u001b[0;36mgenerateGeminiResponse\u001b[0;34m(extractedText)\u001b[0m\n\u001b[1;32m     18\u001b[0m prompt \u001b[38;5;241m=\u001b[39m \u001b[38;5;124mf\u001b[39m\u001b[38;5;124m\"\"\"\u001b[39m\n\u001b[1;32m     19\u001b[0m \u001b[38;5;124m  Text:\u001b[39m\n\u001b[1;32m     20\u001b[0m \u001b[38;5;124m  \u001b[39m\u001b[38;5;132;01m{\u001b[39;00mextractedText\u001b[38;5;132;01m}\u001b[39;00m\n\u001b[0;32m   (...)\u001b[0m\n\u001b[1;32m     44\u001b[0m \u001b[38;5;124m  ]\u001b[39m\n\u001b[1;32m     45\u001b[0m \u001b[38;5;124m  \u001b[39m\u001b[38;5;124m\"\"\"\u001b[39m\n\u001b[1;32m     47\u001b[0m model \u001b[38;5;241m=\u001b[39m genai\u001b[38;5;241m.\u001b[39mGenerativeModel(\u001b[38;5;124m\"\u001b[39m\u001b[38;5;124mgemini-1.5-flash\u001b[39m\u001b[38;5;124m\"\u001b[39m)\n\u001b[0;32m---> 48\u001b[0m llmResponse \u001b[38;5;241m=\u001b[39m model\u001b[38;5;241m.\u001b[39mgenerate_content(prompt)\n\u001b[1;32m     49\u001b[0m \u001b[38;5;28;01mreturn\u001b[39;00m llmResponse\n",
      "File \u001b[0;32m/opt/anaconda3/lib/python3.11/site-packages/google/generativeai/generative_models.py:258\u001b[0m, in \u001b[0;36mGenerativeModel.generate_content\u001b[0;34m(self, contents, generation_config, safety_settings, stream, tools, tool_config, request_options)\u001b[0m\n\u001b[1;32m    256\u001b[0m         \u001b[38;5;28;01mreturn\u001b[39;00m generation_types\u001b[38;5;241m.\u001b[39mGenerateContentResponse\u001b[38;5;241m.\u001b[39mfrom_iterator(iterator)\n\u001b[1;32m    257\u001b[0m     \u001b[38;5;28;01melse\u001b[39;00m:\n\u001b[0;32m--> 258\u001b[0m         response \u001b[38;5;241m=\u001b[39m \u001b[38;5;28mself\u001b[39m\u001b[38;5;241m.\u001b[39m_client\u001b[38;5;241m.\u001b[39mgenerate_content(\n\u001b[1;32m    259\u001b[0m             request,\n\u001b[1;32m    260\u001b[0m             \u001b[38;5;241m*\u001b[39m\u001b[38;5;241m*\u001b[39mrequest_options,\n\u001b[1;32m    261\u001b[0m         )\n\u001b[1;32m    262\u001b[0m         \u001b[38;5;28;01mreturn\u001b[39;00m generation_types\u001b[38;5;241m.\u001b[39mGenerateContentResponse\u001b[38;5;241m.\u001b[39mfrom_response(response)\n\u001b[1;32m    263\u001b[0m \u001b[38;5;28;01mexcept\u001b[39;00m google\u001b[38;5;241m.\u001b[39mapi_core\u001b[38;5;241m.\u001b[39mexceptions\u001b[38;5;241m.\u001b[39mInvalidArgument \u001b[38;5;28;01mas\u001b[39;00m e:\n",
      "File \u001b[0;32m/opt/anaconda3/lib/python3.11/site-packages/google/ai/generativelanguage_v1beta/services/generative_service/client.py:812\u001b[0m, in \u001b[0;36mGenerativeServiceClient.generate_content\u001b[0;34m(self, request, model, contents, retry, timeout, metadata)\u001b[0m\n\u001b[1;32m    809\u001b[0m \u001b[38;5;28mself\u001b[39m\u001b[38;5;241m.\u001b[39m_validate_universe_domain()\n\u001b[1;32m    811\u001b[0m \u001b[38;5;66;03m# Send the request.\u001b[39;00m\n\u001b[0;32m--> 812\u001b[0m response \u001b[38;5;241m=\u001b[39m rpc(\n\u001b[1;32m    813\u001b[0m     request,\n\u001b[1;32m    814\u001b[0m     retry\u001b[38;5;241m=\u001b[39mretry,\n\u001b[1;32m    815\u001b[0m     timeout\u001b[38;5;241m=\u001b[39mtimeout,\n\u001b[1;32m    816\u001b[0m     metadata\u001b[38;5;241m=\u001b[39mmetadata,\n\u001b[1;32m    817\u001b[0m )\n\u001b[1;32m    819\u001b[0m \u001b[38;5;66;03m# Done; return the response.\u001b[39;00m\n\u001b[1;32m    820\u001b[0m \u001b[38;5;28;01mreturn\u001b[39;00m response\n",
      "File \u001b[0;32m/opt/anaconda3/lib/python3.11/site-packages/google/api_core/gapic_v1/method.py:131\u001b[0m, in \u001b[0;36m_GapicCallable.__call__\u001b[0;34m(self, timeout, retry, compression, *args, **kwargs)\u001b[0m\n\u001b[1;32m    128\u001b[0m \u001b[38;5;28;01mif\u001b[39;00m \u001b[38;5;28mself\u001b[39m\u001b[38;5;241m.\u001b[39m_compression \u001b[38;5;129;01mis\u001b[39;00m \u001b[38;5;129;01mnot\u001b[39;00m \u001b[38;5;28;01mNone\u001b[39;00m:\n\u001b[1;32m    129\u001b[0m     kwargs[\u001b[38;5;124m\"\u001b[39m\u001b[38;5;124mcompression\u001b[39m\u001b[38;5;124m\"\u001b[39m] \u001b[38;5;241m=\u001b[39m compression\n\u001b[0;32m--> 131\u001b[0m \u001b[38;5;28;01mreturn\u001b[39;00m wrapped_func(\u001b[38;5;241m*\u001b[39margs, \u001b[38;5;241m*\u001b[39m\u001b[38;5;241m*\u001b[39mkwargs)\n",
      "File \u001b[0;32m/opt/anaconda3/lib/python3.11/site-packages/google/api_core/retry/retry_unary.py:293\u001b[0m, in \u001b[0;36mRetry.__call__.<locals>.retry_wrapped_func\u001b[0;34m(*args, **kwargs)\u001b[0m\n\u001b[1;32m    289\u001b[0m target \u001b[38;5;241m=\u001b[39m functools\u001b[38;5;241m.\u001b[39mpartial(func, \u001b[38;5;241m*\u001b[39margs, \u001b[38;5;241m*\u001b[39m\u001b[38;5;241m*\u001b[39mkwargs)\n\u001b[1;32m    290\u001b[0m sleep_generator \u001b[38;5;241m=\u001b[39m exponential_sleep_generator(\n\u001b[1;32m    291\u001b[0m     \u001b[38;5;28mself\u001b[39m\u001b[38;5;241m.\u001b[39m_initial, \u001b[38;5;28mself\u001b[39m\u001b[38;5;241m.\u001b[39m_maximum, multiplier\u001b[38;5;241m=\u001b[39m\u001b[38;5;28mself\u001b[39m\u001b[38;5;241m.\u001b[39m_multiplier\n\u001b[1;32m    292\u001b[0m )\n\u001b[0;32m--> 293\u001b[0m \u001b[38;5;28;01mreturn\u001b[39;00m retry_target(\n\u001b[1;32m    294\u001b[0m     target,\n\u001b[1;32m    295\u001b[0m     \u001b[38;5;28mself\u001b[39m\u001b[38;5;241m.\u001b[39m_predicate,\n\u001b[1;32m    296\u001b[0m     sleep_generator,\n\u001b[1;32m    297\u001b[0m     timeout\u001b[38;5;241m=\u001b[39m\u001b[38;5;28mself\u001b[39m\u001b[38;5;241m.\u001b[39m_timeout,\n\u001b[1;32m    298\u001b[0m     on_error\u001b[38;5;241m=\u001b[39mon_error,\n\u001b[1;32m    299\u001b[0m )\n",
      "File \u001b[0;32m/opt/anaconda3/lib/python3.11/site-packages/google/api_core/retry/retry_unary.py:153\u001b[0m, in \u001b[0;36mretry_target\u001b[0;34m(target, predicate, sleep_generator, timeout, on_error, exception_factory, **kwargs)\u001b[0m\n\u001b[1;32m    149\u001b[0m \u001b[38;5;66;03m# pylint: disable=broad-except\u001b[39;00m\n\u001b[1;32m    150\u001b[0m \u001b[38;5;66;03m# This function explicitly must deal with broad exceptions.\u001b[39;00m\n\u001b[1;32m    151\u001b[0m \u001b[38;5;28;01mexcept\u001b[39;00m \u001b[38;5;167;01mException\u001b[39;00m \u001b[38;5;28;01mas\u001b[39;00m exc:\n\u001b[1;32m    152\u001b[0m     \u001b[38;5;66;03m# defer to shared logic for handling errors\u001b[39;00m\n\u001b[0;32m--> 153\u001b[0m     _retry_error_helper(\n\u001b[1;32m    154\u001b[0m         exc,\n\u001b[1;32m    155\u001b[0m         deadline,\n\u001b[1;32m    156\u001b[0m         sleep,\n\u001b[1;32m    157\u001b[0m         error_list,\n\u001b[1;32m    158\u001b[0m         predicate,\n\u001b[1;32m    159\u001b[0m         on_error,\n\u001b[1;32m    160\u001b[0m         exception_factory,\n\u001b[1;32m    161\u001b[0m         timeout,\n\u001b[1;32m    162\u001b[0m     )\n\u001b[1;32m    163\u001b[0m     \u001b[38;5;66;03m# if exception not raised, sleep before next attempt\u001b[39;00m\n\u001b[1;32m    164\u001b[0m     time\u001b[38;5;241m.\u001b[39msleep(sleep)\n",
      "File \u001b[0;32m/opt/anaconda3/lib/python3.11/site-packages/google/api_core/retry/retry_base.py:212\u001b[0m, in \u001b[0;36m_retry_error_helper\u001b[0;34m(exc, deadline, next_sleep, error_list, predicate_fn, on_error_fn, exc_factory_fn, original_timeout)\u001b[0m\n\u001b[1;32m    206\u001b[0m \u001b[38;5;28;01mif\u001b[39;00m \u001b[38;5;129;01mnot\u001b[39;00m predicate_fn(exc):\n\u001b[1;32m    207\u001b[0m     final_exc, source_exc \u001b[38;5;241m=\u001b[39m exc_factory_fn(\n\u001b[1;32m    208\u001b[0m         error_list,\n\u001b[1;32m    209\u001b[0m         RetryFailureReason\u001b[38;5;241m.\u001b[39mNON_RETRYABLE_ERROR,\n\u001b[1;32m    210\u001b[0m         original_timeout,\n\u001b[1;32m    211\u001b[0m     )\n\u001b[0;32m--> 212\u001b[0m     \u001b[38;5;28;01mraise\u001b[39;00m final_exc \u001b[38;5;28;01mfrom\u001b[39;00m \u001b[38;5;21;01msource_exc\u001b[39;00m\n\u001b[1;32m    213\u001b[0m \u001b[38;5;28;01mif\u001b[39;00m on_error_fn \u001b[38;5;129;01mis\u001b[39;00m \u001b[38;5;129;01mnot\u001b[39;00m \u001b[38;5;28;01mNone\u001b[39;00m:\n\u001b[1;32m    214\u001b[0m     on_error_fn(exc)\n",
      "File \u001b[0;32m/opt/anaconda3/lib/python3.11/site-packages/google/api_core/retry/retry_unary.py:144\u001b[0m, in \u001b[0;36mretry_target\u001b[0;34m(target, predicate, sleep_generator, timeout, on_error, exception_factory, **kwargs)\u001b[0m\n\u001b[1;32m    142\u001b[0m \u001b[38;5;28;01mfor\u001b[39;00m sleep \u001b[38;5;129;01min\u001b[39;00m sleep_generator:\n\u001b[1;32m    143\u001b[0m     \u001b[38;5;28;01mtry\u001b[39;00m:\n\u001b[0;32m--> 144\u001b[0m         result \u001b[38;5;241m=\u001b[39m target()\n\u001b[1;32m    145\u001b[0m         \u001b[38;5;28;01mif\u001b[39;00m inspect\u001b[38;5;241m.\u001b[39misawaitable(result):\n\u001b[1;32m    146\u001b[0m             warnings\u001b[38;5;241m.\u001b[39mwarn(_ASYNC_RETRY_WARNING)\n",
      "File \u001b[0;32m/opt/anaconda3/lib/python3.11/site-packages/google/api_core/timeout.py:120\u001b[0m, in \u001b[0;36mTimeToDeadlineTimeout.__call__.<locals>.func_with_timeout\u001b[0;34m(*args, **kwargs)\u001b[0m\n\u001b[1;32m    117\u001b[0m     \u001b[38;5;66;03m# Avoid setting negative timeout\u001b[39;00m\n\u001b[1;32m    118\u001b[0m     kwargs[\u001b[38;5;124m\"\u001b[39m\u001b[38;5;124mtimeout\u001b[39m\u001b[38;5;124m\"\u001b[39m] \u001b[38;5;241m=\u001b[39m \u001b[38;5;28mmax\u001b[39m(\u001b[38;5;241m0\u001b[39m, \u001b[38;5;28mself\u001b[39m\u001b[38;5;241m.\u001b[39m_timeout \u001b[38;5;241m-\u001b[39m time_since_first_attempt)\n\u001b[0;32m--> 120\u001b[0m \u001b[38;5;28;01mreturn\u001b[39;00m func(\u001b[38;5;241m*\u001b[39margs, \u001b[38;5;241m*\u001b[39m\u001b[38;5;241m*\u001b[39mkwargs)\n",
      "File \u001b[0;32m/opt/anaconda3/lib/python3.11/site-packages/google/api_core/grpc_helpers.py:78\u001b[0m, in \u001b[0;36m_wrap_unary_errors.<locals>.error_remapped_callable\u001b[0;34m(*args, **kwargs)\u001b[0m\n\u001b[1;32m     76\u001b[0m     \u001b[38;5;28;01mreturn\u001b[39;00m callable_(\u001b[38;5;241m*\u001b[39margs, \u001b[38;5;241m*\u001b[39m\u001b[38;5;241m*\u001b[39mkwargs)\n\u001b[1;32m     77\u001b[0m \u001b[38;5;28;01mexcept\u001b[39;00m grpc\u001b[38;5;241m.\u001b[39mRpcError \u001b[38;5;28;01mas\u001b[39;00m exc:\n\u001b[0;32m---> 78\u001b[0m     \u001b[38;5;28;01mraise\u001b[39;00m exceptions\u001b[38;5;241m.\u001b[39mfrom_grpc_error(exc) \u001b[38;5;28;01mfrom\u001b[39;00m \u001b[38;5;21;01mexc\u001b[39;00m\n",
      "\u001b[0;31mInvalidArgument\u001b[0m: 400 API key expired. Please renew the API key. [reason: \"API_KEY_INVALID\"\ndomain: \"googleapis.com\"\nmetadata {\n  key: \"service\"\n  value: \"generativelanguage.googleapis.com\"\n}\n]"
     ]
    }
   ],
   "source": [
    "import ast \n",
    "\n",
    "if torch.backends.mps.is_available():\n",
    "    print(\"mps used\")\n",
    "    mps_device = torch.device(\"mps\")\n",
    "else:\n",
    "    mps_device = torch.device(\"cpu\")\n",
    "    \n",
    "legalSections = {}\n",
    "legalSectionsContent = \"\"\n",
    "getSectionInfo(1, 27, legalSections)\n",
    "for title, content in list(legalSections.items()):\n",
    "    textContent = f\"Title: {title}\\nContent: {content}\\n\"\n",
    "    legalSectionsContent += textContent\n",
    "llmResponse = generateGeminiResponse(legalSectionsContent)"
   ]
  },
  {
   "cell_type": "code",
   "execution_count": 69,
   "metadata": {},
   "outputs": [],
   "source": [
    "responseText = llmResponse.text\n",
    "responseText = ast.literal_eval(responseText)"
   ]
  },
  {
   "cell_type": "code",
   "execution_count": 70,
   "metadata": {},
   "outputs": [
    {
     "data": {
      "text/plain": [
       "[{'input': 'What is the punishment for someone who commits an offense against the United States or aids in its commission?',\n",
       "  'output': 'They are punishable as a principal.'},\n",
       " {'input': 'What is the punishment for someone who intentionally causes an act to be done that would be an offense against the United States if performed directly?',\n",
       "  'output': 'They are punishable as a principal.'},\n",
       " {'input': 'What is the maximum penalty for being an accessory after the fact?',\n",
       "  'output': 'An accessory after the fact shall be imprisoned not more than one-half the maximum term of imprisonment or fined not more than one-half the maximum fine prescribed for the punishment of the principal, or both; or if the principal is punishable by life imprisonment or death, the accessory shall be imprisoned not more than 15 years.'},\n",
       " {'input': 'What is the penalty for someone who knows about a felony committed against the United States and conceals it?',\n",
       "  'output': 'They shall be fined under this title or imprisoned not more than three years, or both.'},\n",
       " {'input': \"What does the term 'United States' encompass in a territorial sense within Title 18?\",\n",
       "  'output': 'It includes all places and waters, continental or insular, subject to the jurisdiction of the United States, except the Canal Zone.'},\n",
       " {'input': \"What does the term 'department' refer to in Title 18?\",\n",
       "  'output': 'It means one of the executive departments enumerated in section 1 of Title 5, unless the context shows that such term was intended to describe the executive, legislative, or judicial branches of the government.'},\n",
       " {'input': \"What does the term 'agency' encompass within Title 18?\",\n",
       "  'output': 'It includes any department, independent establishment, commission, administration, authority, board or bureau of the United States or any corporation in which the United States has a proprietary interest, unless the context shows that such term was intended to be used in a more limited sense.'},\n",
       " {'input': \"What does the term 'special maritime and territorial jurisdiction of the United States' include within Title 18?\",\n",
       "  'output': 'The text provided does not define the specific contents of this term. It only states that it is included within Title 18.'},\n",
       " {'input': \"What does the term 'obligation or other security of the United States' include?\",\n",
       "  'output': 'It includes bonds, certificates of indebtedness, national bank currency, Federal Reserve notes, Federal Reserve bank notes, coupons, United States notes, Treasury notes, gold certificates, silver certificates, fractional notes, certificates of deposit, bills, checks, or drafts for money, drawn by or upon authorized officers of the United States, stamps and other representatives of value, of whatever denomination, issued under any Act of Congress, and canceled United States stamps.'},\n",
       " {'input': \"What is a 'vessel of the United States' according to Title 18?\",\n",
       "  'output': 'It means a vessel belonging in whole or in part to the United States, or any citizen thereof, or any corporation created by or under the laws of the United States, or of any State, Territory, District, or possession thereof.'},\n",
       " {'input': \"What is the definition of 'interstate commerce' in Title 18?\",\n",
       "  'output': 'It includes commerce between one State, Territory, Possession, or the District of Columbia and another State, Territory, Possession, or the District of Columbia.'},\n",
       " {'input': \"What is the definition of 'foreign commerce' in Title 18?\",\n",
       "  'output': 'It includes commerce with a foreign country.'},\n",
       " {'input': \"What does the term 'foreign government' include within Title 18?\",\n",
       "  'output': 'It includes any government, faction, or body of insurgents within a country with which the United States is at peace, irrespective of recognition by the United States.'},\n",
       " {'input': \"What does the term 'Postal Service' refer to within Title 18?\",\n",
       "  'output': 'It means the United States Postal Service established under title 39, and every officer and employee of that Service, whether or not such officer or employee has taken the oath of office.'},\n",
       " {'input': 'What happens to someone who commits an act within a place under Federal jurisdiction that is punishable by state law but not federal law?',\n",
       "  'output': 'They shall be guilty of a like offense and subject to a like punishment.'},\n",
       " {'input': 'What is considered a punishment under the law of a State, territory, possession, or district for operating a motor vehicle under the influence of drugs or alcohol?',\n",
       "  'output': 'That which may or shall be imposed through judicial or administrative action.'},\n",
       " {'input': 'What is the additional punishment for operating a motor vehicle under the influence of drugs or alcohol within the special maritime and territorial jurisdiction of the United States?',\n",
       "  'output': 'An additional term of imprisonment of not more than 1 year, or if serious bodily injury of a minor is caused, not more than 5 years, or if death of a minor is caused, not more than 10 years, and an additional fine under this title, or both.'},\n",
       " {'input': \"What is the definition of a 'minor' for purposes of operating a motor vehicle under the influence of drugs or alcohol within the special maritime and territorial jurisdiction of the United States?\",\n",
       "  'output': 'A person less than 18 years of age.'},\n",
       " {'input': 'For purposes of subsection (a) of Section 13, what happens to waters of the territorial sea of the United States lying outside the territory of any State, Commonwealth, territory, possession, or district?',\n",
       "  'output': 'They shall be deemed to lie within the area of the State, Commonwealth, territory, possession, or district that it would lie within if the boundaries of such State, Commonwealth, territory, possession, or district were extended seaward to the outer limit of the territorial sea of the United States.'},\n",
       " {'input': \"What does the term 'obligation or other security of any foreign government' include?\",\n",
       "  'output': 'It includes, but is not limited to, uncanceled stamps, whether or not demonetized.'},\n",
       " {'input': \"What does the term 'crime of violence' mean according to Section 16?\",\n",
       "  'output': \"The provided text does not define the term 'crime of violence.' It only states that it means-.\"},\n",
       " {'input': 'What is the affirmative defense to a prosecution under any Federal statute?',\n",
       "  'output': 'It is an affirmative defense to a prosecution under any Federal statute that, at the time of the commission of the acts constituting the offense, the defendant, as a result of a severe mental disease or defect, was unable to appreciate the nature and quality or the wrongfulness of his acts.'},\n",
       " {'input': 'What is the burden of proof for the defense of insanity?',\n",
       "  'output': 'The defendant has the burden of proving the defense of insanity by clear and convincing evidence.'},\n",
       " {'input': \"What does the term 'organization' refer to in Title 18?\",\n",
       "  'output': 'It means a person other than an individual.'},\n",
       " {'input': \"What is a 'petty offense' as defined in Title 18?\",\n",
       "  'output': 'It means a Class B misdemeanor, a Class C misdemeanor, or an infraction, for which the maximum fine is no greater than the amount set forth for such an offense in section 3571(b)(6) or (7) in the case of an individual or section 3571(c)(6) or (7) in the case of an organization.'},\n",
       " {'input': \"What is the definition of 'financial institution' according to Title 18?\",\n",
       "  'output': \"The provided text does not define the term 'financial institution.' It only states that it means-.\"},\n",
       " {'input': \"What does the term 'official representation' mean in the context of crimes involving stolen or counterfeit property?\",\n",
       "  'output': 'It means any representation made by a Federal law enforcement officer (as defined in section 115) or by another person at the direction or with the approval of such an officer.'},\n",
       " {'input': \"What is the definition of 'court of the United States' in Title 18?\",\n",
       "  'output': 'It includes the District Court of Guam, the District Court for the Northern Mariana Islands, and the District Court of the Virgin Islands.'},\n",
       " {'input': \"What is a 'Federal health care offense' as defined in Title 18?\",\n",
       "  'output': 'It means a violation of, or a criminal conspiracy to violate-.'},\n",
       " {'input': \"What is a 'health care benefit program' according to Title 18?\",\n",
       "  'output': 'It means any public or private plan or contract, affecting commerce, under which any medical benefit, item, or service is provided to any individual, and includes any individual or entity who is providing a medical benefit, item, or service for which payment may be made under the plan or contract.'},\n",
       " {'input': 'What is the penalty for someone who uses a minor to commit a crime of violence?',\n",
       "  'output': 'They shall be imprisoned for not less than 10 years and not more than life.'},\n",
       " {'input': \"What is the definition of a 'seaport' within Title 18?\",\n",
       "  'output': 'It means all piers, wharves, docks, and similar structures, adjacent to any waters subject to the jurisdiction of the United States, to which a vessel may be secured, including areas of land, water, or land and water under and in immediate proximity to such structures, buildings on or contiguous to such structures, and the equipment and materials on such structures or in such buildings.'},\n",
       " {'input': \"What is a 'mortgage lending business' as defined in Title 18?\",\n",
       "  'output': 'It means an organization which finances or refinances any debt secured by an interest in real estate, including private mortgage companies and any subsidiaries of such organizations, and whose activities affect interstate or foreign commerce.'}]"
      ]
     },
     "execution_count": 70,
     "metadata": {},
     "output_type": "execute_result"
    }
   ],
   "source": [
    "responseText"
   ]
  },
  {
   "cell_type": "code",
   "execution_count": 31,
   "metadata": {},
   "outputs": [
    {
     "name": "stdout",
     "output_type": "stream",
     "text": [
      "\u001b[33mWARNING: Skipping /opt/anaconda3/lib/python3.11/site-packages/jupyter_highlight_selected_word-0.2.0.dist-info due to invalid metadata entry 'name'\u001b[0m\u001b[33m\n",
      "\u001b[0m\u001b[33mWARNING: Skipping /opt/anaconda3/lib/python3.11/site-packages/jupyter_highlight_selected_word-0.2.0.dist-info due to invalid metadata entry 'name'\u001b[0m\u001b[33m\n",
      "\u001b[0mCollecting lamini\n",
      "  Downloading lamini-3.0.5-7-py3-none-any.whl.metadata (1.6 kB)\n",
      "Collecting typing-extensions==4.5.0\n",
      "  Downloading typing_extensions-4.5.0-py3-none-any.whl.metadata (8.5 kB)\n",
      "Collecting lamini-configuration[yaml] (from lamini)\n",
      "  Downloading lamini_configuration-0.8.3-py3-none-any.whl.metadata (11 kB)\n",
      "Requirement already satisfied: requests in /opt/anaconda3/lib/python3.11/site-packages (from lamini) (2.31.0)\n",
      "Requirement already satisfied: tqdm in /opt/anaconda3/lib/python3.11/site-packages (from lamini) (4.65.0)\n",
      "Requirement already satisfied: numpy<2.0.0 in /opt/anaconda3/lib/python3.11/site-packages (from lamini) (1.23.4)\n",
      "Collecting jsonlines (from lamini)\n",
      "  Downloading jsonlines-4.0.0-py3-none-any.whl.metadata (1.6 kB)\n",
      "Requirement already satisfied: pandas in /opt/anaconda3/lib/python3.11/site-packages (from lamini) (2.2.2)\n",
      "Collecting azure-storage-blob (from lamini)\n",
      "  Downloading azure_storage_blob-12.22.0-py3-none-any.whl.metadata (26 kB)\n",
      "Requirement already satisfied: scikit-learn in /opt/anaconda3/lib/python3.11/site-packages (from lamini) (1.5.0)\n",
      "Requirement already satisfied: aiohttp in /opt/anaconda3/lib/python3.11/site-packages (from lamini) (3.9.3)\n",
      "Requirement already satisfied: aiosignal>=1.1.2 in /opt/anaconda3/lib/python3.11/site-packages (from aiohttp->lamini) (1.2.0)\n",
      "Requirement already satisfied: attrs>=17.3.0 in /opt/anaconda3/lib/python3.11/site-packages (from aiohttp->lamini) (23.2.0)\n",
      "Requirement already satisfied: frozenlist>=1.1.1 in /opt/anaconda3/lib/python3.11/site-packages (from aiohttp->lamini) (1.4.0)\n",
      "Requirement already satisfied: multidict<7.0,>=4.5 in /opt/anaconda3/lib/python3.11/site-packages (from aiohttp->lamini) (6.0.4)\n",
      "Requirement already satisfied: yarl<2.0,>=1.0 in /opt/anaconda3/lib/python3.11/site-packages (from aiohttp->lamini) (1.9.3)\n",
      "Collecting azure-core>=1.28.0 (from azure-storage-blob->lamini)\n",
      "  Downloading azure_core-1.30.2-py3-none-any.whl.metadata (37 kB)\n",
      "Requirement already satisfied: cryptography>=2.1.4 in /opt/anaconda3/lib/python3.11/site-packages (from azure-storage-blob->lamini) (42.0.2)\n",
      "INFO: pip is looking at multiple versions of azure-storage-blob to determine which version is compatible with other requirements. This could take a while.\n",
      "Collecting azure-storage-blob (from lamini)\n",
      "  Downloading azure_storage_blob-12.21.0-py3-none-any.whl.metadata (26 kB)\n",
      "  Downloading azure_storage_blob-12.20.0-py3-none-any.whl.metadata (26 kB)\n",
      "  Downloading azure_storage_blob-12.19.1-py3-none-any.whl.metadata (26 kB)\n",
      "Collecting isodate>=0.6.1 (from azure-storage-blob->lamini)\n",
      "  Downloading isodate-0.6.1-py2.py3-none-any.whl.metadata (9.6 kB)\n",
      "Requirement already satisfied: pyyaml<7.0,>=6.0 in /opt/anaconda3/lib/python3.11/site-packages (from lamini-configuration[yaml]->lamini) (6.0.1)\n",
      "Requirement already satisfied: python-dateutil>=2.8.2 in /opt/anaconda3/lib/python3.11/site-packages (from pandas->lamini) (2.8.2)\n",
      "Requirement already satisfied: pytz>=2020.1 in /opt/anaconda3/lib/python3.11/site-packages (from pandas->lamini) (2023.3.post1)\n",
      "Requirement already satisfied: tzdata>=2022.7 in /opt/anaconda3/lib/python3.11/site-packages (from pandas->lamini) (2023.3)\n",
      "Requirement already satisfied: charset-normalizer<4,>=2 in /opt/anaconda3/lib/python3.11/site-packages (from requests->lamini) (2.0.4)\n",
      "Requirement already satisfied: idna<4,>=2.5 in /opt/anaconda3/lib/python3.11/site-packages (from requests->lamini) (3.4)\n",
      "Requirement already satisfied: urllib3<3,>=1.21.1 in /opt/anaconda3/lib/python3.11/site-packages (from requests->lamini) (2.0.7)\n",
      "Requirement already satisfied: certifi>=2017.4.17 in /opt/anaconda3/lib/python3.11/site-packages (from requests->lamini) (2024.6.2)\n",
      "Requirement already satisfied: scipy>=1.6.0 in /opt/anaconda3/lib/python3.11/site-packages (from scikit-learn->lamini) (1.13.1)\n",
      "Requirement already satisfied: joblib>=1.2.0 in /opt/anaconda3/lib/python3.11/site-packages (from scikit-learn->lamini) (1.4.2)\n",
      "Requirement already satisfied: threadpoolctl>=3.1.0 in /opt/anaconda3/lib/python3.11/site-packages (from scikit-learn->lamini) (3.5.0)\n",
      "Requirement already satisfied: six>=1.11.0 in /opt/anaconda3/lib/python3.11/site-packages (from azure-core>=1.28.0->azure-storage-blob->lamini) (1.16.0)\n",
      "INFO: pip is looking at multiple versions of azure-core to determine which version is compatible with other requirements. This could take a while.\n",
      "Collecting azure-core<2.0.0,>=1.28.0 (from azure-storage-blob->lamini)\n",
      "  Downloading azure_core-1.30.1-py3-none-any.whl.metadata (37 kB)\n",
      "  Downloading azure_core-1.30.0-py3-none-any.whl.metadata (37 kB)\n",
      "  Downloading azure_core-1.29.7-py3-none-any.whl.metadata (36 kB)\n",
      "  Downloading azure_core-1.29.6-py3-none-any.whl.metadata (36 kB)\n",
      "Requirement already satisfied: anyio<5.0,>=3.0 in /opt/anaconda3/lib/python3.11/site-packages (from azure-core<2.0.0,>=1.28.0->azure-storage-blob->lamini) (4.2.0)\n",
      "  Downloading azure_core-1.29.5-py3-none-any.whl.metadata (36 kB)\n",
      "  Downloading azure_core-1.29.4-py3-none-any.whl.metadata (36 kB)\n",
      "  Downloading azure_core-1.29.3-py3-none-any.whl.metadata (35 kB)\n",
      "INFO: pip is still looking at multiple versions of azure-core to determine which version is compatible with other requirements. This could take a while.\n",
      "  Downloading azure_core-1.29.2-py3-none-any.whl.metadata (35 kB)\n",
      "  Downloading azure_core-1.29.1-py3-none-any.whl.metadata (35 kB)\n",
      "Requirement already satisfied: cffi>=1.12 in /opt/anaconda3/lib/python3.11/site-packages (from cryptography>=2.1.4->azure-storage-blob->lamini) (1.16.0)\n",
      "Requirement already satisfied: pycparser in /opt/anaconda3/lib/python3.11/site-packages (from cffi>=1.12->cryptography>=2.1.4->azure-storage-blob->lamini) (2.21)\n",
      "Downloading typing_extensions-4.5.0-py3-none-any.whl (27 kB)\n",
      "Downloading lamini-3.0.5-7-py3-none-any.whl (682 kB)\n",
      "\u001b[2K   \u001b[90m━━━━━━━━━━━━━━━━━━━━━━━━━━━━━━━━━━━━━━━\u001b[0m \u001b[32m682.2/682.2 kB\u001b[0m \u001b[31m605.2 kB/s\u001b[0m eta \u001b[36m0:00:00\u001b[0ma \u001b[36m0:00:01\u001b[0m\n",
      "\u001b[?25hDownloading azure_storage_blob-12.19.1-py3-none-any.whl (394 kB)\n",
      "\u001b[2K   \u001b[90m━━━━━━━━━━━━━━━━━━━━━━━━━━━━━━━━━━━━━━━━\u001b[0m \u001b[32m394.5/394.5 kB\u001b[0m \u001b[31m1.2 MB/s\u001b[0m eta \u001b[36m0:00:00\u001b[0m00:01\u001b[0m:00:01\u001b[0m\n",
      "\u001b[?25hDownloading jsonlines-4.0.0-py3-none-any.whl (8.7 kB)\n",
      "Downloading azure_core-1.29.1-py3-none-any.whl (188 kB)\n",
      "\u001b[2K   \u001b[90m━━━━━━━━━━━━━━━━━━━━━━━━━━━━━━━━━━━━━━━━\u001b[0m \u001b[32m188.5/188.5 kB\u001b[0m \u001b[31m69.6 kB/s\u001b[0m eta \u001b[36m0:00:00\u001b[0ma \u001b[36m0:00:01\u001b[0m\n",
      "\u001b[?25hDownloading isodate-0.6.1-py2.py3-none-any.whl (41 kB)\n",
      "\u001b[2K   \u001b[90m━━━━━━━━━━━━━━━━━━━━━━━━━━━━━━━━━━━━━━━━\u001b[0m \u001b[32m41.7/41.7 kB\u001b[0m \u001b[31m2.6 MB/s\u001b[0m eta \u001b[36m0:00:00\u001b[0m\n",
      "\u001b[?25hDownloading lamini_configuration-0.8.3-py3-none-any.whl (22 kB)\n",
      "\u001b[33mWARNING: Skipping /opt/anaconda3/lib/python3.11/site-packages/jupyter_highlight_selected_word-0.2.0.dist-info due to invalid metadata entry 'name'\u001b[0m\u001b[33m\n",
      "\u001b[0mInstalling collected packages: typing-extensions, lamini-configuration, jsonlines, isodate, azure-core, azure-storage-blob, lamini\n",
      "  Attempting uninstall: typing-extensions\n",
      "\u001b[33m    WARNING: Skipping /opt/anaconda3/lib/python3.11/site-packages/jupyter_highlight_selected_word-0.2.0.dist-info due to invalid metadata entry 'name'\u001b[0m\u001b[33m\n",
      "\u001b[0m    Found existing installation: typing_extensions 4.12.2\n",
      "    Uninstalling typing_extensions-4.12.2:\n",
      "      Successfully uninstalled typing_extensions-4.12.2\n",
      "\u001b[33mWARNING: Skipping /opt/anaconda3/lib/python3.11/site-packages/jupyter_highlight_selected_word-0.2.0.dist-info due to invalid metadata entry 'name'\u001b[0m\u001b[33m\n",
      "\u001b[0m\u001b[33mWARNING: Skipping /opt/anaconda3/lib/python3.11/site-packages/jupyter_highlight_selected_word-0.2.0.dist-info due to invalid metadata entry 'name'\u001b[0m\u001b[33m\n",
      "\u001b[0m\u001b[33mWARNING: Skipping /opt/anaconda3/lib/python3.11/site-packages/jupyter_highlight_selected_word-0.2.0.dist-info due to invalid metadata entry 'name'\u001b[0m\u001b[33m\n",
      "\u001b[0m\u001b[31mERROR: pip's dependency resolver does not currently take into account all the packages that are installed. This behaviour is the source of the following dependency conflicts.\n",
      "embedchain 0.1.113 requires pypdf<5.0.0,>=4.0.1, but you have pypdf 3.9.0 which is incompatible.\n",
      "python-docx 1.1.2 requires typing-extensions>=4.9.0, but you have typing-extensions 4.5.0 which is incompatible.\n",
      "selenium 4.22.0 requires typing_extensions>=4.9.0, but you have typing-extensions 4.5.0 which is incompatible.\n",
      "pydantic-core 2.20.1 requires typing-extensions!=4.7.0,>=4.6.0, but you have typing-extensions 4.5.0 which is incompatible.\n",
      "sqlalchemy 2.0.30 requires typing-extensions>=4.6.0, but you have typing-extensions 4.5.0 which is incompatible.\n",
      "fastapi 0.111.0 requires typing-extensions>=4.8.0, but you have typing-extensions 4.5.0 which is incompatible.\n",
      "langchain-google-genai 1.0.6 requires google-generativeai<0.6.0,>=0.5.2, but you have google-generativeai 0.6.0 which is incompatible.\n",
      "langchain-google-genai 1.0.6 requires langchain-core<0.3,>=0.2.2, but you have langchain-core 0.1.52 which is incompatible.\n",
      "torch 2.3.1 requires typing-extensions>=4.8.0, but you have typing-extensions 4.5.0 which is incompatible.\n",
      "pydantic 2.8.2 requires typing-extensions>=4.6.1; python_version < \"3.13\", but you have typing-extensions 4.5.0 which is incompatible.\n",
      "openai 1.35.10 requires typing-extensions<5,>=4.7, but you have typing-extensions 4.5.0 which is incompatible.\u001b[0m\u001b[31m\n",
      "\u001b[0mSuccessfully installed azure-core-1.29.1 azure-storage-blob-12.19.1 isodate-0.6.1 jsonlines-4.0.0 lamini-3.0.5 lamini-configuration-0.8.3 typing-extensions-4.5.0\n",
      "\u001b[33mWARNING: Skipping /opt/anaconda3/lib/python3.11/site-packages/jupyter_highlight_selected_word-0.2.0.dist-info due to invalid metadata entry 'name'\u001b[0m\u001b[33m\n",
      "\u001b[0mNote: you may need to restart the kernel to use updated packages.\n"
     ]
    }
   ],
   "source": [
    "pip install lamini typing-extensions==4.5.0"
   ]
  },
  {
   "cell_type": "code",
   "execution_count": 71,
   "metadata": {},
   "outputs": [
    {
     "name": "stderr",
     "output_type": "stream",
     "text": [
      "Python-dotenv could not parse statement starting at line 1\n"
     ]
    },
    {
     "name": "stdout",
     "output_type": "stream",
     "text": [
      "Data pairs uploaded to local.\n",
      "\n",
      "Your dataset id is: 2db8a8a146cfbca34f52cb045a1d5a71f5de2ccc14fdd2e28c47884bbb373457 . Consider using this in the future to train using the same data. \n",
      "Eg: llm.train(data_or_dataset_id='2db8a8a146cfbca34f52cb045a1d5a71f5de2ccc14fdd2e28c47884bbb373457')\n",
      "Tuning job submitted! Check status of job 11574 here: https://api.lamini.ai/train/11574\n"
     ]
    },
    {
     "data": {
      "text/plain": [
       "{'job_id': 11574,\n",
       " 'status': 'CREATED',\n",
       " 'dataset_id': '2db8a8a146cfbca34f52cb045a1d5a71f5de2ccc14fdd2e28c47884bbb373457'}"
      ]
     },
     "execution_count": 71,
     "metadata": {},
     "output_type": "execute_result"
    }
   ],
   "source": [
    "from lamini import Lamini\n",
    "load_dotenv()\n",
    "llm = Lamini(model_name='meta-llama/Llama-2-7b-hf',api_key= os.getenv(\"LAMINI_API_KEY\"))\n",
    "data = responseText\n",
    "llm.tune(data_or_dataset_id=data)"
   ]
  },
  {
   "cell_type": "code",
   "execution_count": 66,
   "metadata": {},
   "outputs": [
    {
     "data": {
      "text/plain": [
       "'\\nSection 3 is a federal program that requires recipients of certain federal financial assistance to take affirmative steps to ensure that employment and business opportunities generated by their projects are made available to Section 3 residents.\\nSection 3 of the Housing and Urban Development Act of 1968 (12 U.S.C. 1701u) requires that recipients of certain federal financial assistance from HUD take affirmative steps to ensure that employment and business opportunities generated by their projects are made available to Section 3 residents.\\nSection 3 of the Housing and Urban Development Act of 1968 (12 U.S.C. 1701u) requires that recipients of certain federal financial assistance from HUD take affirmative steps to ensure that employment and business opportunities generated by their projects are made available to Section 3 residents. Section 3 also requires that recipients of certain federal financial assistance from HUD take affirmative steps to ensure that businesses and contractors that receive financial assistance from HUD to provide goods, services, or construction work related to a HUD-assisted project or activity are Section 3 businesses.\\nSection 3 of the Housing and Urban Development Act of 1968 (12 U.S.C. 1701u) requires that recipients of certain federal financial assistance from HUD take affirmative steps to ensure that employment and business opportunities generated by their projects are made available to Section 3 residents. Section 3 also requires that recipients of certain federal financial assistance from HUD take affirmative steps to ensure that businesses and contractors that receive financial assistance from HUD to provide goods, services, or construction work related to a HUD-assisted project or activity are Section 3 businesses. Section 3 of the Housing and Urban Development Act of 1968 (12 U.S.C. 1701u) requires that recipients of certain federal financial assistance from HUD take affirmative steps to ensure that employment and business opportunities generated by their projects are made available to Section 3 residents. Section 3 also requires that recipients of certain federal financial assistance from HUD take affirmative steps to ensure that businesses and contractors that receive financial assistance from HUD to provide goods, services, or construction work related to a HUD-assisted project or activity are Section 3 businesses.\\nSection 3 of the Housing and Urban Development Act of 1968 (12 U.S.C. 1701u) requires that recipients of certain federal financial assistance from HUD take affirmative steps to ensure that employment and business opportunities generated by their projects are made available to Section 3 residents. Section 3 also requires that recipients of certain federal financial assistance from HUD take affirmative steps to ensure that businesses and contractors that receive financial assistance from HUD to provide goods, services, or construction work related to a HUD-assisted project or activity are Section 3 businesses. Section 3 of the Housing and Urban Development Act of 1968 (12 U.S.C. 1701u) requires that recipients of certain federal financial assistance from HUD take affirmative steps to ensure that employment and business opportunities generated by their projects are made available to Section 3 residents. Section 3 also requires that recipients of certain federal financial assistance from HUD take affirmative steps to ensure that businesses and contractors that receive financial assistance from HUD to provide goods, services, or construction work related to a HUD-assisted project or activity are Section 3 businesses. Section 3 of the Housing and Urban Development Act of 1968 (12 U.S.C. 1701u) requires that recipients of certain federal financial assistance from HUD take affirmative steps to ensure that employment and business opportunities generated by their projects are made available to Section 3 residents. Section 3 also requires that recipients of certain federal financial assistance from HUD take affirmative steps to ensure that businesses and contractors that receive financial assistance from'"
      ]
     },
     "execution_count": 66,
     "metadata": {},
     "output_type": "execute_result"
    }
   ],
   "source": [
    "\n",
    "llm.generate(\"what is section 3?\")"
   ]
  }
 ],
 "metadata": {
  "kernelspec": {
   "display_name": "base",
   "language": "python",
   "name": "python3"
  },
  "language_info": {
   "codemirror_mode": {
    "name": "ipython",
    "version": 3
   },
   "file_extension": ".py",
   "mimetype": "text/x-python",
   "name": "python",
   "nbconvert_exporter": "python",
   "pygments_lexer": "ipython3",
   "version": "3.11.8"
  }
 },
 "nbformat": 4,
 "nbformat_minor": 2
}
