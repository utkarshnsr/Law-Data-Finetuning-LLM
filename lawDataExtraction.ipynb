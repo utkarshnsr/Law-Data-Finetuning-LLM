{
 "cells": [
  {
   "cell_type": "code",
   "execution_count": 20,
   "metadata": {},
   "outputs": [],
   "source": [
    "# chapter 1 \n",
    "from bs4 import BeautifulSoup\n",
    "import requests\n",
    "import re"
   ]
  },
  {
   "cell_type": "code",
   "execution_count": 21,
   "metadata": {},
   "outputs": [],
   "source": [
    "def removePageTags(html):\n",
    "    soup = BeautifulSoup(html, \"html.parser\")\n",
    "    for data in soup(['style', 'script']):\n",
    "        data.decompose()\n",
    "    return ' '.join(soup.stripped_strings)\n",
    "\n",
    "def getChapterNumbers(part):\n",
    "    chapterNumberList = []\n",
    "    partUrl = \"https://uscode.house.gov/view.xhtml?req=granuleid%3AUSC-prelim-title18-part\" + str(part) + \"&saved=L3ByZWxpbUB0aXRsZTE4L3BhcnQxL2NoYXB0ZXIx%7CZ3JhbnVsZWlkOlVTQy1wcmVsaW0tdGl0bGUxOC1jaGFwdGVyMQ%3D%3D%7C%7C%7C0%7Cfalse%7Cprelim&edition=prelim\"\n",
    "    partHtml = requests.get(partUrl)\n",
    "    soup = BeautifulSoup(partHtml.content, \"html.parser\")\n",
    "    chapterTags = soup.find_all(\"h3\", class_=\"chapter-head\")\n",
    "    for chapter in chapterTags:\n",
    "        chapterNumber = re.findall(r'\\d+[a-zA-Z]?', chapter.text)[0]\n",
    "        chapterNumberList.append(chapterNumber)\n",
    "    return chapterNumberList\n",
    "        \n",
    "\n",
    "def getChapterSectionsTitles(soup):\n",
    "    chapterSectionTitles = []\n",
    "    titleTags = soup.find_all(\"h3\", class_=\"section-head\")\n",
    "    for title in titleTags:\n",
    "        if not (\"repealed\" in title.text.lower()):\n",
    "            chapterSectionTitles.append(title.text)\n",
    "    return chapterSectionTitles \n",
    "\n",
    "def sectionInformation(chapterNumber, sectionNumber, legalSectionInformation):\n",
    "    sectionUrl = \"https://uscode.house.gov/view.xhtml?hl=false&edition=prelim&path=%2Fprelim%40title18%2Fpart1%2Fchapter\" + str(chapterNumber) + \"&req=granuleid%3AUSC-prelim-title18-section\" + str(sectionNumber) + \"&num=0&saved=L3ByZWxpbUB0aXRsZTE4L3BhcnQxL2NoYXB0ZXIx%7CZ3JhbnVsZWlkOlVTQy1wcmVsaW0tdGl0bGUxOC1jaGFwdGVyMQ%3D%3D%7C%7C%7C0%7Cfalse%7Cprelim\"\n",
    "    sectionHtml = requests.get(sectionUrl, timeout=20)\n",
    "    soup = BeautifulSoup(sectionHtml.content, \"html.parser\")\n",
    "    sectionTitle = soup.title.string\n",
    "    sectionDescription = soup.find_all(\"p\", class_=re.compile(r'statutory-body'))\n",
    "    legalSectionDescription = \"\"\n",
    "    for item in sectionDescription:\n",
    "        legalSectionDescription += item.text\n",
    "        legalSectionDescription += \"\\n\"\n",
    "    legalSectionInformation[sectionTitle] = legalSectionDescription\n",
    "\n",
    "def getRelevantChapterContent(chapterNumber, legalSectionInformation):\n",
    "    chapterUrl = \"https://uscode.house.gov/view.xhtml?path=/prelim@title18/part1/chapter\" + str(chapterNumber) + \"&edition=prelim\"\n",
    "    chapterHtml = requests.get(chapterUrl, timeout=20)\n",
    "    soup = BeautifulSoup(chapterHtml.content, \"html.parser\")\n",
    "    chapterSectionTitles = getChapterSectionsTitles(soup)\n",
    "    for sectionTitle in chapterSectionTitles:\n",
    "        sectionNumber = re.findall(r'\\d+[a-zA-Z]?', sectionTitle)[0]\n",
    "        sectionInformation(chapterNumber, sectionNumber, legalSectionInformation)"
   ]
  },
  {
   "cell_type": "code",
   "execution_count": 22,
   "metadata": {},
   "outputs": [
    {
     "name": "stdout",
     "output_type": "stream",
     "text": [
      "In Chapter: 1\n",
      "In Chapter: 2\n",
      "In Chapter: 3\n",
      "In Chapter: 5\n",
      "In Chapter: 7\n",
      "In Chapter: 9\n",
      "In Chapter: 10\n",
      "In Chapter: 11\n",
      "In Chapter: 11A\n",
      "In Chapter: 11B\n",
      "In Chapter: 12\n",
      "In Chapter: 13\n",
      "In Chapter: 15\n",
      "In Chapter: 17\n",
      "In Chapter: 17A\n",
      "In Chapter: 18\n",
      "In Chapter: 19\n",
      "In Chapter: 21\n",
      "In Chapter: 23\n",
      "In Chapter: 25\n",
      "In Chapter: 26\n",
      "In Chapter: 27\n",
      "In Chapter: 29\n",
      "In Chapter: 31\n",
      "In Chapter: 33\n",
      "In Chapter: 35\n",
      "In Chapter: 37\n",
      "In Chapter: 39\n",
      "In Chapter: 40\n",
      "In Chapter: 41\n",
      "In Chapter: 42\n",
      "In Chapter: 43\n",
      "In Chapter: 44\n",
      "In Chapter: 45\n",
      "In Chapter: 46\n",
      "In Chapter: 47\n",
      "In Chapter: 49\n",
      "In Chapter: 50\n",
      "In Chapter: 50A\n",
      "In Chapter: 51\n",
      "In Chapter: 53\n",
      "In Chapter: 55\n",
      "In Chapter: 57\n",
      "In Chapter: 59\n",
      "In Chapter: 61\n",
      "In Chapter: 63\n",
      "In Chapter: 65\n",
      "In Chapter: 67\n",
      "In Chapter: 68\n",
      "In Chapter: 69\n",
      "In Chapter: 71\n",
      "In Chapter: 73\n",
      "In Chapter: 74\n",
      "In Chapter: 75\n",
      "In Chapter: 77\n",
      "In Chapter: 79\n",
      "In Chapter: 81\n",
      "In Chapter: 83\n",
      "In Chapter: 84\n",
      "In Chapter: 85\n",
      "In Chapter: 87\n",
      "In Chapter: 88\n",
      "In Chapter: 89\n",
      "In Chapter: 90\n",
      "In Chapter: 90A\n",
      "In Chapter: 91\n",
      "In Chapter: 93\n",
      "In Chapter: 95\n",
      "In Chapter: 96\n",
      "In Chapter: 97\n",
      "In Chapter: 99\n",
      "In Chapter: 101\n",
      "In Chapter: 102\n",
      "In Chapter: 103\n",
      "In Chapter: 105\n",
      "In Chapter: 107\n",
      "In Chapter: 109\n",
      "In Chapter: 109A\n",
      "In Chapter: 109B\n",
      "In Chapter: 110\n",
      "In Chapter: 110A\n",
      "In Chapter: 111\n",
      "In Chapter: 111A\n",
      "In Chapter: 113\n",
      "In Chapter: 113A\n",
      "In Chapter: 113B\n",
      "In Chapter: 113C\n",
      "In Chapter: 114\n",
      "In Chapter: 115\n",
      "In Chapter: 117\n",
      "In Chapter: 118\n",
      "In Chapter: 119\n",
      "In Chapter: 121\n",
      "In Chapter: 123\n"
     ]
    }
   ],
   "source": [
    "legalSectionInformation = {}\n",
    "chapterNumbers = getChapterNumbers(1)\n",
    "for i in chapterNumbers:\n",
    "    print(f\"In Chapter: {i}\")\n",
    "    getRelevantChapterContent(i, legalSectionInformation)"
   ]
  },
  {
   "cell_type": "code",
   "execution_count": 23,
   "metadata": {},
   "outputs": [],
   "source": [
    "file_path = 'part1Content.txt'\n",
    "with open(file_path, 'w') as file:\n",
    "    for key, value in legalSectionInformation.items():\n",
    "        file.write(f\"{key}:\\n{value}\\n\")"
   ]
  },
  {
   "cell_type": "code",
   "execution_count": 27,
   "metadata": {},
   "outputs": [],
   "source": [
    "import google.generativeai as genai\n",
    "import os\n",
    "from dotenv import load_dotenv, dotenv_values \n",
    "from langchain_community.llms import Ollama\n",
    "\n",
    "\n",
    "def generateInstructionInput(extractedText):\n",
    "    question_prompt = f\"\"\"\n",
    "        Text: {extractedText}\n",
    "\n",
    "        Instruction:\n",
    "        Generate a question based only on the section's content. Do not give me multiple choice or true/false questions. \n",
    "        Please return only the question and no additional text.\n",
    "        \"\"\"\n",
    "        \n",
    "    model = Ollama(model=\"llama3.1:8b-instruct-q2_K\")\n",
    "    llmResponse = model.invoke(question_prompt)\n",
    "    return llmResponse \n",
    "\n",
    "def generateInstructionOutput(extractedText, generated_question):\n",
    "    answer_prompt = f\"\"\"\n",
    "        Text: {extractedText}\n",
    "\n",
    "        Instruction:\n",
    "        Answer the following question based only on the section's content.\n",
    "\n",
    "        Question: {generated_question}\n",
    "        \"\"\"\n",
    "        \n",
    "    model = Ollama(model=\"llama3.1:8b-instruct-q2_K\")\n",
    "    llmResponse = model.invoke(answer_prompt)\n",
    "    return llmResponse"
   ]
  },
  {
   "cell_type": "code",
   "execution_count": 29,
   "metadata": {},
   "outputs": [
    {
     "name": "stdout",
     "output_type": "stream",
     "text": [
      "mps used\n"
     ]
    },
    {
     "ename": "KeyboardInterrupt",
     "evalue": "",
     "output_type": "error",
     "traceback": [
      "\u001b[0;31m---------------------------------------------------------------------------\u001b[0m",
      "\u001b[0;31mKeyboardInterrupt\u001b[0m                         Traceback (most recent call last)",
      "Cell \u001b[0;32mIn[29], line 16\u001b[0m\n\u001b[1;32m     14\u001b[0m \u001b[38;5;66;03m# print(sectionContent)\u001b[39;00m\n\u001b[1;32m     15\u001b[0m question \u001b[38;5;241m=\u001b[39m generateInstructionInput(sectionContent)\n\u001b[0;32m---> 16\u001b[0m answer \u001b[38;5;241m=\u001b[39m generateInstructionOutput(sectionContent, question)\n\u001b[1;32m     17\u001b[0m dataPoint \u001b[38;5;241m=\u001b[39m {\u001b[38;5;124m\"\u001b[39m\u001b[38;5;124minput\u001b[39m\u001b[38;5;124m\"\u001b[39m: question, \u001b[38;5;124m\"\u001b[39m\u001b[38;5;124moutput\u001b[39m\u001b[38;5;124m\"\u001b[39m: answer}\n\u001b[1;32m     18\u001b[0m \u001b[38;5;28mprint\u001b[39m(dataPoint)\n",
      "Cell \u001b[0;32mIn[27], line 31\u001b[0m, in \u001b[0;36mgenerateInstructionOutput\u001b[0;34m(extractedText, generated_question)\u001b[0m\n\u001b[1;32m     21\u001b[0m answer_prompt \u001b[38;5;241m=\u001b[39m \u001b[38;5;124mf\u001b[39m\u001b[38;5;124m\"\"\"\u001b[39m\n\u001b[1;32m     22\u001b[0m \u001b[38;5;124m    Text: \u001b[39m\u001b[38;5;132;01m{\u001b[39;00mextractedText\u001b[38;5;132;01m}\u001b[39;00m\n\u001b[1;32m     23\u001b[0m \n\u001b[0;32m   (...)\u001b[0m\n\u001b[1;32m     27\u001b[0m \u001b[38;5;124m    Question: \u001b[39m\u001b[38;5;132;01m{\u001b[39;00mgenerated_question\u001b[38;5;132;01m}\u001b[39;00m\n\u001b[1;32m     28\u001b[0m \u001b[38;5;124m    \u001b[39m\u001b[38;5;124m\"\"\"\u001b[39m\n\u001b[1;32m     30\u001b[0m model \u001b[38;5;241m=\u001b[39m Ollama(model\u001b[38;5;241m=\u001b[39m\u001b[38;5;124m\"\u001b[39m\u001b[38;5;124mllama3.1:8b-instruct-q2_K\u001b[39m\u001b[38;5;124m\"\u001b[39m)\n\u001b[0;32m---> 31\u001b[0m llmResponse \u001b[38;5;241m=\u001b[39m model\u001b[38;5;241m.\u001b[39minvoke(answer_prompt)\n\u001b[1;32m     32\u001b[0m \u001b[38;5;28;01mreturn\u001b[39;00m llmResponse\n",
      "File \u001b[0;32m/opt/anaconda3/lib/python3.11/site-packages/langchain_core/language_models/llms.py:276\u001b[0m, in \u001b[0;36mBaseLLM.invoke\u001b[0;34m(self, input, config, stop, **kwargs)\u001b[0m\n\u001b[1;32m    266\u001b[0m \u001b[38;5;28;01mdef\u001b[39;00m \u001b[38;5;21minvoke\u001b[39m(\n\u001b[1;32m    267\u001b[0m     \u001b[38;5;28mself\u001b[39m,\n\u001b[1;32m    268\u001b[0m     \u001b[38;5;28minput\u001b[39m: LanguageModelInput,\n\u001b[0;32m   (...)\u001b[0m\n\u001b[1;32m    272\u001b[0m     \u001b[38;5;241m*\u001b[39m\u001b[38;5;241m*\u001b[39mkwargs: Any,\n\u001b[1;32m    273\u001b[0m ) \u001b[38;5;241m-\u001b[39m\u001b[38;5;241m>\u001b[39m \u001b[38;5;28mstr\u001b[39m:\n\u001b[1;32m    274\u001b[0m     config \u001b[38;5;241m=\u001b[39m ensure_config(config)\n\u001b[1;32m    275\u001b[0m     \u001b[38;5;28;01mreturn\u001b[39;00m (\n\u001b[0;32m--> 276\u001b[0m         \u001b[38;5;28mself\u001b[39m\u001b[38;5;241m.\u001b[39mgenerate_prompt(\n\u001b[1;32m    277\u001b[0m             [\u001b[38;5;28mself\u001b[39m\u001b[38;5;241m.\u001b[39m_convert_input(\u001b[38;5;28minput\u001b[39m)],\n\u001b[1;32m    278\u001b[0m             stop\u001b[38;5;241m=\u001b[39mstop,\n\u001b[1;32m    279\u001b[0m             callbacks\u001b[38;5;241m=\u001b[39mconfig\u001b[38;5;241m.\u001b[39mget(\u001b[38;5;124m\"\u001b[39m\u001b[38;5;124mcallbacks\u001b[39m\u001b[38;5;124m\"\u001b[39m),\n\u001b[1;32m    280\u001b[0m             tags\u001b[38;5;241m=\u001b[39mconfig\u001b[38;5;241m.\u001b[39mget(\u001b[38;5;124m\"\u001b[39m\u001b[38;5;124mtags\u001b[39m\u001b[38;5;124m\"\u001b[39m),\n\u001b[1;32m    281\u001b[0m             metadata\u001b[38;5;241m=\u001b[39mconfig\u001b[38;5;241m.\u001b[39mget(\u001b[38;5;124m\"\u001b[39m\u001b[38;5;124mmetadata\u001b[39m\u001b[38;5;124m\"\u001b[39m),\n\u001b[1;32m    282\u001b[0m             run_name\u001b[38;5;241m=\u001b[39mconfig\u001b[38;5;241m.\u001b[39mget(\u001b[38;5;124m\"\u001b[39m\u001b[38;5;124mrun_name\u001b[39m\u001b[38;5;124m\"\u001b[39m),\n\u001b[1;32m    283\u001b[0m             run_id\u001b[38;5;241m=\u001b[39mconfig\u001b[38;5;241m.\u001b[39mpop(\u001b[38;5;124m\"\u001b[39m\u001b[38;5;124mrun_id\u001b[39m\u001b[38;5;124m\"\u001b[39m, \u001b[38;5;28;01mNone\u001b[39;00m),\n\u001b[1;32m    284\u001b[0m             \u001b[38;5;241m*\u001b[39m\u001b[38;5;241m*\u001b[39mkwargs,\n\u001b[1;32m    285\u001b[0m         )\n\u001b[1;32m    286\u001b[0m         \u001b[38;5;241m.\u001b[39mgenerations[\u001b[38;5;241m0\u001b[39m][\u001b[38;5;241m0\u001b[39m]\n\u001b[1;32m    287\u001b[0m         \u001b[38;5;241m.\u001b[39mtext\n\u001b[1;32m    288\u001b[0m     )\n",
      "File \u001b[0;32m/opt/anaconda3/lib/python3.11/site-packages/langchain_core/language_models/llms.py:633\u001b[0m, in \u001b[0;36mBaseLLM.generate_prompt\u001b[0;34m(self, prompts, stop, callbacks, **kwargs)\u001b[0m\n\u001b[1;32m    625\u001b[0m \u001b[38;5;28;01mdef\u001b[39;00m \u001b[38;5;21mgenerate_prompt\u001b[39m(\n\u001b[1;32m    626\u001b[0m     \u001b[38;5;28mself\u001b[39m,\n\u001b[1;32m    627\u001b[0m     prompts: List[PromptValue],\n\u001b[0;32m   (...)\u001b[0m\n\u001b[1;32m    630\u001b[0m     \u001b[38;5;241m*\u001b[39m\u001b[38;5;241m*\u001b[39mkwargs: Any,\n\u001b[1;32m    631\u001b[0m ) \u001b[38;5;241m-\u001b[39m\u001b[38;5;241m>\u001b[39m LLMResult:\n\u001b[1;32m    632\u001b[0m     prompt_strings \u001b[38;5;241m=\u001b[39m [p\u001b[38;5;241m.\u001b[39mto_string() \u001b[38;5;28;01mfor\u001b[39;00m p \u001b[38;5;129;01min\u001b[39;00m prompts]\n\u001b[0;32m--> 633\u001b[0m     \u001b[38;5;28;01mreturn\u001b[39;00m \u001b[38;5;28mself\u001b[39m\u001b[38;5;241m.\u001b[39mgenerate(prompt_strings, stop\u001b[38;5;241m=\u001b[39mstop, callbacks\u001b[38;5;241m=\u001b[39mcallbacks, \u001b[38;5;241m*\u001b[39m\u001b[38;5;241m*\u001b[39mkwargs)\n",
      "File \u001b[0;32m/opt/anaconda3/lib/python3.11/site-packages/langchain_core/language_models/llms.py:803\u001b[0m, in \u001b[0;36mBaseLLM.generate\u001b[0;34m(self, prompts, stop, callbacks, tags, metadata, run_name, run_id, **kwargs)\u001b[0m\n\u001b[1;32m    788\u001b[0m \u001b[38;5;28;01mif\u001b[39;00m (\u001b[38;5;28mself\u001b[39m\u001b[38;5;241m.\u001b[39mcache \u001b[38;5;129;01mis\u001b[39;00m \u001b[38;5;28;01mNone\u001b[39;00m \u001b[38;5;129;01mand\u001b[39;00m get_llm_cache() \u001b[38;5;129;01mis\u001b[39;00m \u001b[38;5;28;01mNone\u001b[39;00m) \u001b[38;5;129;01mor\u001b[39;00m \u001b[38;5;28mself\u001b[39m\u001b[38;5;241m.\u001b[39mcache \u001b[38;5;129;01mis\u001b[39;00m \u001b[38;5;28;01mFalse\u001b[39;00m:\n\u001b[1;32m    789\u001b[0m     run_managers \u001b[38;5;241m=\u001b[39m [\n\u001b[1;32m    790\u001b[0m         callback_manager\u001b[38;5;241m.\u001b[39mon_llm_start(\n\u001b[1;32m    791\u001b[0m             dumpd(\u001b[38;5;28mself\u001b[39m),\n\u001b[0;32m   (...)\u001b[0m\n\u001b[1;32m    801\u001b[0m         )\n\u001b[1;32m    802\u001b[0m     ]\n\u001b[0;32m--> 803\u001b[0m     output \u001b[38;5;241m=\u001b[39m \u001b[38;5;28mself\u001b[39m\u001b[38;5;241m.\u001b[39m_generate_helper(\n\u001b[1;32m    804\u001b[0m         prompts, stop, run_managers, \u001b[38;5;28mbool\u001b[39m(new_arg_supported), \u001b[38;5;241m*\u001b[39m\u001b[38;5;241m*\u001b[39mkwargs\n\u001b[1;32m    805\u001b[0m     )\n\u001b[1;32m    806\u001b[0m     \u001b[38;5;28;01mreturn\u001b[39;00m output\n\u001b[1;32m    807\u001b[0m \u001b[38;5;28;01mif\u001b[39;00m \u001b[38;5;28mlen\u001b[39m(missing_prompts) \u001b[38;5;241m>\u001b[39m \u001b[38;5;241m0\u001b[39m:\n",
      "File \u001b[0;32m/opt/anaconda3/lib/python3.11/site-packages/langchain_core/language_models/llms.py:670\u001b[0m, in \u001b[0;36mBaseLLM._generate_helper\u001b[0;34m(self, prompts, stop, run_managers, new_arg_supported, **kwargs)\u001b[0m\n\u001b[1;32m    668\u001b[0m     \u001b[38;5;28;01mfor\u001b[39;00m run_manager \u001b[38;5;129;01min\u001b[39;00m run_managers:\n\u001b[1;32m    669\u001b[0m         run_manager\u001b[38;5;241m.\u001b[39mon_llm_error(e, response\u001b[38;5;241m=\u001b[39mLLMResult(generations\u001b[38;5;241m=\u001b[39m[]))\n\u001b[0;32m--> 670\u001b[0m     \u001b[38;5;28;01mraise\u001b[39;00m e\n\u001b[1;32m    671\u001b[0m flattened_outputs \u001b[38;5;241m=\u001b[39m output\u001b[38;5;241m.\u001b[39mflatten()\n\u001b[1;32m    672\u001b[0m \u001b[38;5;28;01mfor\u001b[39;00m manager, flattened_output \u001b[38;5;129;01min\u001b[39;00m \u001b[38;5;28mzip\u001b[39m(run_managers, flattened_outputs):\n",
      "File \u001b[0;32m/opt/anaconda3/lib/python3.11/site-packages/langchain_core/language_models/llms.py:657\u001b[0m, in \u001b[0;36mBaseLLM._generate_helper\u001b[0;34m(self, prompts, stop, run_managers, new_arg_supported, **kwargs)\u001b[0m\n\u001b[1;32m    647\u001b[0m \u001b[38;5;28;01mdef\u001b[39;00m \u001b[38;5;21m_generate_helper\u001b[39m(\n\u001b[1;32m    648\u001b[0m     \u001b[38;5;28mself\u001b[39m,\n\u001b[1;32m    649\u001b[0m     prompts: List[\u001b[38;5;28mstr\u001b[39m],\n\u001b[0;32m   (...)\u001b[0m\n\u001b[1;32m    653\u001b[0m     \u001b[38;5;241m*\u001b[39m\u001b[38;5;241m*\u001b[39mkwargs: Any,\n\u001b[1;32m    654\u001b[0m ) \u001b[38;5;241m-\u001b[39m\u001b[38;5;241m>\u001b[39m LLMResult:\n\u001b[1;32m    655\u001b[0m     \u001b[38;5;28;01mtry\u001b[39;00m:\n\u001b[1;32m    656\u001b[0m         output \u001b[38;5;241m=\u001b[39m (\n\u001b[0;32m--> 657\u001b[0m             \u001b[38;5;28mself\u001b[39m\u001b[38;5;241m.\u001b[39m_generate(\n\u001b[1;32m    658\u001b[0m                 prompts,\n\u001b[1;32m    659\u001b[0m                 stop\u001b[38;5;241m=\u001b[39mstop,\n\u001b[1;32m    660\u001b[0m                 \u001b[38;5;66;03m# TODO: support multiple run managers\u001b[39;00m\n\u001b[1;32m    661\u001b[0m                 run_manager\u001b[38;5;241m=\u001b[39mrun_managers[\u001b[38;5;241m0\u001b[39m] \u001b[38;5;28;01mif\u001b[39;00m run_managers \u001b[38;5;28;01melse\u001b[39;00m \u001b[38;5;28;01mNone\u001b[39;00m,\n\u001b[1;32m    662\u001b[0m                 \u001b[38;5;241m*\u001b[39m\u001b[38;5;241m*\u001b[39mkwargs,\n\u001b[1;32m    663\u001b[0m             )\n\u001b[1;32m    664\u001b[0m             \u001b[38;5;28;01mif\u001b[39;00m new_arg_supported\n\u001b[1;32m    665\u001b[0m             \u001b[38;5;28;01melse\u001b[39;00m \u001b[38;5;28mself\u001b[39m\u001b[38;5;241m.\u001b[39m_generate(prompts, stop\u001b[38;5;241m=\u001b[39mstop)\n\u001b[1;32m    666\u001b[0m         )\n\u001b[1;32m    667\u001b[0m     \u001b[38;5;28;01mexcept\u001b[39;00m \u001b[38;5;167;01mBaseException\u001b[39;00m \u001b[38;5;28;01mas\u001b[39;00m e:\n\u001b[1;32m    668\u001b[0m         \u001b[38;5;28;01mfor\u001b[39;00m run_manager \u001b[38;5;129;01min\u001b[39;00m run_managers:\n",
      "File \u001b[0;32m/opt/anaconda3/lib/python3.11/site-packages/langchain_community/llms/ollama.py:417\u001b[0m, in \u001b[0;36mOllama._generate\u001b[0;34m(self, prompts, stop, images, run_manager, **kwargs)\u001b[0m\n\u001b[1;32m    415\u001b[0m generations \u001b[38;5;241m=\u001b[39m []\n\u001b[1;32m    416\u001b[0m \u001b[38;5;28;01mfor\u001b[39;00m prompt \u001b[38;5;129;01min\u001b[39;00m prompts:\n\u001b[0;32m--> 417\u001b[0m     final_chunk \u001b[38;5;241m=\u001b[39m \u001b[38;5;28msuper\u001b[39m()\u001b[38;5;241m.\u001b[39m_stream_with_aggregation(\n\u001b[1;32m    418\u001b[0m         prompt,\n\u001b[1;32m    419\u001b[0m         stop\u001b[38;5;241m=\u001b[39mstop,\n\u001b[1;32m    420\u001b[0m         images\u001b[38;5;241m=\u001b[39mimages,\n\u001b[1;32m    421\u001b[0m         run_manager\u001b[38;5;241m=\u001b[39mrun_manager,\n\u001b[1;32m    422\u001b[0m         verbose\u001b[38;5;241m=\u001b[39m\u001b[38;5;28mself\u001b[39m\u001b[38;5;241m.\u001b[39mverbose,\n\u001b[1;32m    423\u001b[0m         \u001b[38;5;241m*\u001b[39m\u001b[38;5;241m*\u001b[39mkwargs,\n\u001b[1;32m    424\u001b[0m     )\n\u001b[1;32m    425\u001b[0m     generations\u001b[38;5;241m.\u001b[39mappend([final_chunk])\n\u001b[1;32m    426\u001b[0m \u001b[38;5;28;01mreturn\u001b[39;00m LLMResult(generations\u001b[38;5;241m=\u001b[39mgenerations)\n",
      "File \u001b[0;32m/opt/anaconda3/lib/python3.11/site-packages/langchain_community/llms/ollama.py:326\u001b[0m, in \u001b[0;36m_OllamaCommon._stream_with_aggregation\u001b[0;34m(self, prompt, stop, run_manager, verbose, **kwargs)\u001b[0m\n\u001b[1;32m    317\u001b[0m \u001b[38;5;28;01mdef\u001b[39;00m \u001b[38;5;21m_stream_with_aggregation\u001b[39m(\n\u001b[1;32m    318\u001b[0m     \u001b[38;5;28mself\u001b[39m,\n\u001b[1;32m    319\u001b[0m     prompt: \u001b[38;5;28mstr\u001b[39m,\n\u001b[0;32m   (...)\u001b[0m\n\u001b[1;32m    323\u001b[0m     \u001b[38;5;241m*\u001b[39m\u001b[38;5;241m*\u001b[39mkwargs: Any,\n\u001b[1;32m    324\u001b[0m ) \u001b[38;5;241m-\u001b[39m\u001b[38;5;241m>\u001b[39m GenerationChunk:\n\u001b[1;32m    325\u001b[0m     final_chunk: Optional[GenerationChunk] \u001b[38;5;241m=\u001b[39m \u001b[38;5;28;01mNone\u001b[39;00m\n\u001b[0;32m--> 326\u001b[0m     \u001b[38;5;28;01mfor\u001b[39;00m stream_resp \u001b[38;5;129;01min\u001b[39;00m \u001b[38;5;28mself\u001b[39m\u001b[38;5;241m.\u001b[39m_create_generate_stream(prompt, stop, \u001b[38;5;241m*\u001b[39m\u001b[38;5;241m*\u001b[39mkwargs):\n\u001b[1;32m    327\u001b[0m         \u001b[38;5;28;01mif\u001b[39;00m stream_resp:\n\u001b[1;32m    328\u001b[0m             chunk \u001b[38;5;241m=\u001b[39m _stream_response_to_generation_chunk(stream_resp)\n",
      "File \u001b[0;32m/opt/anaconda3/lib/python3.11/site-packages/langchain_community/llms/ollama.py:172\u001b[0m, in \u001b[0;36m_OllamaCommon._create_generate_stream\u001b[0;34m(self, prompt, stop, images, **kwargs)\u001b[0m\n\u001b[1;32m    164\u001b[0m \u001b[38;5;28;01mdef\u001b[39;00m \u001b[38;5;21m_create_generate_stream\u001b[39m(\n\u001b[1;32m    165\u001b[0m     \u001b[38;5;28mself\u001b[39m,\n\u001b[1;32m    166\u001b[0m     prompt: \u001b[38;5;28mstr\u001b[39m,\n\u001b[0;32m   (...)\u001b[0m\n\u001b[1;32m    169\u001b[0m     \u001b[38;5;241m*\u001b[39m\u001b[38;5;241m*\u001b[39mkwargs: Any,\n\u001b[1;32m    170\u001b[0m ) \u001b[38;5;241m-\u001b[39m\u001b[38;5;241m>\u001b[39m Iterator[\u001b[38;5;28mstr\u001b[39m]:\n\u001b[1;32m    171\u001b[0m     payload \u001b[38;5;241m=\u001b[39m {\u001b[38;5;124m\"\u001b[39m\u001b[38;5;124mprompt\u001b[39m\u001b[38;5;124m\"\u001b[39m: prompt, \u001b[38;5;124m\"\u001b[39m\u001b[38;5;124mimages\u001b[39m\u001b[38;5;124m\"\u001b[39m: images}\n\u001b[0;32m--> 172\u001b[0m     \u001b[38;5;28;01myield from\u001b[39;00m \u001b[38;5;28mself\u001b[39m\u001b[38;5;241m.\u001b[39m_create_stream(\n\u001b[1;32m    173\u001b[0m         payload\u001b[38;5;241m=\u001b[39mpayload,\n\u001b[1;32m    174\u001b[0m         stop\u001b[38;5;241m=\u001b[39mstop,\n\u001b[1;32m    175\u001b[0m         api_url\u001b[38;5;241m=\u001b[39m\u001b[38;5;124mf\u001b[39m\u001b[38;5;124m\"\u001b[39m\u001b[38;5;132;01m{\u001b[39;00m\u001b[38;5;28mself\u001b[39m\u001b[38;5;241m.\u001b[39mbase_url\u001b[38;5;132;01m}\u001b[39;00m\u001b[38;5;124m/api/generate\u001b[39m\u001b[38;5;124m\"\u001b[39m,\n\u001b[1;32m    176\u001b[0m         \u001b[38;5;241m*\u001b[39m\u001b[38;5;241m*\u001b[39mkwargs,\n\u001b[1;32m    177\u001b[0m     )\n",
      "File \u001b[0;32m/opt/anaconda3/lib/python3.11/site-packages/requests/models.py:865\u001b[0m, in \u001b[0;36mResponse.iter_lines\u001b[0;34m(self, chunk_size, decode_unicode, delimiter)\u001b[0m\n\u001b[1;32m    856\u001b[0m \u001b[38;5;250m\u001b[39m\u001b[38;5;124;03m\"\"\"Iterates over the response data, one line at a time.  When\u001b[39;00m\n\u001b[1;32m    857\u001b[0m \u001b[38;5;124;03mstream=True is set on the request, this avoids reading the\u001b[39;00m\n\u001b[1;32m    858\u001b[0m \u001b[38;5;124;03mcontent at once into memory for large responses.\u001b[39;00m\n\u001b[1;32m    859\u001b[0m \n\u001b[1;32m    860\u001b[0m \u001b[38;5;124;03m.. note:: This method is not reentrant safe.\u001b[39;00m\n\u001b[1;32m    861\u001b[0m \u001b[38;5;124;03m\"\"\"\u001b[39;00m\n\u001b[1;32m    863\u001b[0m pending \u001b[38;5;241m=\u001b[39m \u001b[38;5;28;01mNone\u001b[39;00m\n\u001b[0;32m--> 865\u001b[0m \u001b[38;5;28;01mfor\u001b[39;00m chunk \u001b[38;5;129;01min\u001b[39;00m \u001b[38;5;28mself\u001b[39m\u001b[38;5;241m.\u001b[39miter_content(\n\u001b[1;32m    866\u001b[0m     chunk_size\u001b[38;5;241m=\u001b[39mchunk_size, decode_unicode\u001b[38;5;241m=\u001b[39mdecode_unicode\n\u001b[1;32m    867\u001b[0m ):\n\u001b[1;32m    869\u001b[0m     \u001b[38;5;28;01mif\u001b[39;00m pending \u001b[38;5;129;01mis\u001b[39;00m \u001b[38;5;129;01mnot\u001b[39;00m \u001b[38;5;28;01mNone\u001b[39;00m:\n\u001b[1;32m    870\u001b[0m         chunk \u001b[38;5;241m=\u001b[39m pending \u001b[38;5;241m+\u001b[39m chunk\n",
      "File \u001b[0;32m/opt/anaconda3/lib/python3.11/site-packages/requests/utils.py:571\u001b[0m, in \u001b[0;36mstream_decode_response_unicode\u001b[0;34m(iterator, r)\u001b[0m\n\u001b[1;32m    568\u001b[0m     \u001b[38;5;28;01mreturn\u001b[39;00m\n\u001b[1;32m    570\u001b[0m decoder \u001b[38;5;241m=\u001b[39m codecs\u001b[38;5;241m.\u001b[39mgetincrementaldecoder(r\u001b[38;5;241m.\u001b[39mencoding)(errors\u001b[38;5;241m=\u001b[39m\u001b[38;5;124m\"\u001b[39m\u001b[38;5;124mreplace\u001b[39m\u001b[38;5;124m\"\u001b[39m)\n\u001b[0;32m--> 571\u001b[0m \u001b[38;5;28;01mfor\u001b[39;00m chunk \u001b[38;5;129;01min\u001b[39;00m iterator:\n\u001b[1;32m    572\u001b[0m     rv \u001b[38;5;241m=\u001b[39m decoder\u001b[38;5;241m.\u001b[39mdecode(chunk)\n\u001b[1;32m    573\u001b[0m     \u001b[38;5;28;01mif\u001b[39;00m rv:\n",
      "File \u001b[0;32m/opt/anaconda3/lib/python3.11/site-packages/requests/models.py:816\u001b[0m, in \u001b[0;36mResponse.iter_content.<locals>.generate\u001b[0;34m()\u001b[0m\n\u001b[1;32m    814\u001b[0m \u001b[38;5;28;01mif\u001b[39;00m \u001b[38;5;28mhasattr\u001b[39m(\u001b[38;5;28mself\u001b[39m\u001b[38;5;241m.\u001b[39mraw, \u001b[38;5;124m\"\u001b[39m\u001b[38;5;124mstream\u001b[39m\u001b[38;5;124m\"\u001b[39m):\n\u001b[1;32m    815\u001b[0m     \u001b[38;5;28;01mtry\u001b[39;00m:\n\u001b[0;32m--> 816\u001b[0m         \u001b[38;5;28;01myield from\u001b[39;00m \u001b[38;5;28mself\u001b[39m\u001b[38;5;241m.\u001b[39mraw\u001b[38;5;241m.\u001b[39mstream(chunk_size, decode_content\u001b[38;5;241m=\u001b[39m\u001b[38;5;28;01mTrue\u001b[39;00m)\n\u001b[1;32m    817\u001b[0m     \u001b[38;5;28;01mexcept\u001b[39;00m ProtocolError \u001b[38;5;28;01mas\u001b[39;00m e:\n\u001b[1;32m    818\u001b[0m         \u001b[38;5;28;01mraise\u001b[39;00m ChunkedEncodingError(e)\n",
      "File \u001b[0;32m/opt/anaconda3/lib/python3.11/site-packages/urllib3/response.py:933\u001b[0m, in \u001b[0;36mHTTPResponse.stream\u001b[0;34m(self, amt, decode_content)\u001b[0m\n\u001b[1;32m    917\u001b[0m \u001b[38;5;250m\u001b[39m\u001b[38;5;124;03m\"\"\"\u001b[39;00m\n\u001b[1;32m    918\u001b[0m \u001b[38;5;124;03mA generator wrapper for the read() method. A call will block until\u001b[39;00m\n\u001b[1;32m    919\u001b[0m \u001b[38;5;124;03m``amt`` bytes have been read from the connection or until the\u001b[39;00m\n\u001b[0;32m   (...)\u001b[0m\n\u001b[1;32m    930\u001b[0m \u001b[38;5;124;03m    'content-encoding' header.\u001b[39;00m\n\u001b[1;32m    931\u001b[0m \u001b[38;5;124;03m\"\"\"\u001b[39;00m\n\u001b[1;32m    932\u001b[0m \u001b[38;5;28;01mif\u001b[39;00m \u001b[38;5;28mself\u001b[39m\u001b[38;5;241m.\u001b[39mchunked \u001b[38;5;129;01mand\u001b[39;00m \u001b[38;5;28mself\u001b[39m\u001b[38;5;241m.\u001b[39msupports_chunked_reads():\n\u001b[0;32m--> 933\u001b[0m     \u001b[38;5;28;01myield from\u001b[39;00m \u001b[38;5;28mself\u001b[39m\u001b[38;5;241m.\u001b[39mread_chunked(amt, decode_content\u001b[38;5;241m=\u001b[39mdecode_content)\n\u001b[1;32m    934\u001b[0m \u001b[38;5;28;01melse\u001b[39;00m:\n\u001b[1;32m    935\u001b[0m     \u001b[38;5;28;01mwhile\u001b[39;00m \u001b[38;5;129;01mnot\u001b[39;00m is_fp_closed(\u001b[38;5;28mself\u001b[39m\u001b[38;5;241m.\u001b[39m_fp) \u001b[38;5;129;01mor\u001b[39;00m \u001b[38;5;28mlen\u001b[39m(\u001b[38;5;28mself\u001b[39m\u001b[38;5;241m.\u001b[39m_decoded_buffer) \u001b[38;5;241m>\u001b[39m \u001b[38;5;241m0\u001b[39m:\n",
      "File \u001b[0;32m/opt/anaconda3/lib/python3.11/site-packages/urllib3/response.py:1073\u001b[0m, in \u001b[0;36mHTTPResponse.read_chunked\u001b[0;34m(self, amt, decode_content)\u001b[0m\n\u001b[1;32m   1070\u001b[0m     \u001b[38;5;28;01mreturn\u001b[39;00m \u001b[38;5;28;01mNone\u001b[39;00m\n\u001b[1;32m   1072\u001b[0m \u001b[38;5;28;01mwhile\u001b[39;00m \u001b[38;5;28;01mTrue\u001b[39;00m:\n\u001b[0;32m-> 1073\u001b[0m     \u001b[38;5;28mself\u001b[39m\u001b[38;5;241m.\u001b[39m_update_chunk_length()\n\u001b[1;32m   1074\u001b[0m     \u001b[38;5;28;01mif\u001b[39;00m \u001b[38;5;28mself\u001b[39m\u001b[38;5;241m.\u001b[39mchunk_left \u001b[38;5;241m==\u001b[39m \u001b[38;5;241m0\u001b[39m:\n\u001b[1;32m   1075\u001b[0m         \u001b[38;5;28;01mbreak\u001b[39;00m\n",
      "File \u001b[0;32m/opt/anaconda3/lib/python3.11/site-packages/urllib3/response.py:1001\u001b[0m, in \u001b[0;36mHTTPResponse._update_chunk_length\u001b[0;34m(self)\u001b[0m\n\u001b[1;32m    999\u001b[0m \u001b[38;5;28;01mif\u001b[39;00m \u001b[38;5;28mself\u001b[39m\u001b[38;5;241m.\u001b[39mchunk_left \u001b[38;5;129;01mis\u001b[39;00m \u001b[38;5;129;01mnot\u001b[39;00m \u001b[38;5;28;01mNone\u001b[39;00m:\n\u001b[1;32m   1000\u001b[0m     \u001b[38;5;28;01mreturn\u001b[39;00m \u001b[38;5;28;01mNone\u001b[39;00m\n\u001b[0;32m-> 1001\u001b[0m line \u001b[38;5;241m=\u001b[39m \u001b[38;5;28mself\u001b[39m\u001b[38;5;241m.\u001b[39m_fp\u001b[38;5;241m.\u001b[39mfp\u001b[38;5;241m.\u001b[39mreadline()  \u001b[38;5;66;03m# type: ignore[union-attr]\u001b[39;00m\n\u001b[1;32m   1002\u001b[0m line \u001b[38;5;241m=\u001b[39m line\u001b[38;5;241m.\u001b[39msplit(\u001b[38;5;124mb\u001b[39m\u001b[38;5;124m\"\u001b[39m\u001b[38;5;124m;\u001b[39m\u001b[38;5;124m\"\u001b[39m, \u001b[38;5;241m1\u001b[39m)[\u001b[38;5;241m0\u001b[39m]\n\u001b[1;32m   1003\u001b[0m \u001b[38;5;28;01mtry\u001b[39;00m:\n",
      "File \u001b[0;32m/opt/anaconda3/lib/python3.11/socket.py:706\u001b[0m, in \u001b[0;36mSocketIO.readinto\u001b[0;34m(self, b)\u001b[0m\n\u001b[1;32m    704\u001b[0m \u001b[38;5;28;01mwhile\u001b[39;00m \u001b[38;5;28;01mTrue\u001b[39;00m:\n\u001b[1;32m    705\u001b[0m     \u001b[38;5;28;01mtry\u001b[39;00m:\n\u001b[0;32m--> 706\u001b[0m         \u001b[38;5;28;01mreturn\u001b[39;00m \u001b[38;5;28mself\u001b[39m\u001b[38;5;241m.\u001b[39m_sock\u001b[38;5;241m.\u001b[39mrecv_into(b)\n\u001b[1;32m    707\u001b[0m     \u001b[38;5;28;01mexcept\u001b[39;00m timeout:\n\u001b[1;32m    708\u001b[0m         \u001b[38;5;28mself\u001b[39m\u001b[38;5;241m.\u001b[39m_timeout_occurred \u001b[38;5;241m=\u001b[39m \u001b[38;5;28;01mTrue\u001b[39;00m\n",
      "\u001b[0;31mKeyboardInterrupt\u001b[0m: "
     ]
    }
   ],
   "source": [
    "import ast \n",
    "import torch\n",
    "\n",
    "if torch.backends.mps.is_available():\n",
    "    print(\"mps used\")\n",
    "    mps_device = torch.device(\"mps\")\n",
    "else:\n",
    "    mps_device = torch.device(\"cpu\")\n",
    "    \n",
    "    \n",
    "instructionTuneDataset = []\n",
    "for key in legalSectionInformation.keys():\n",
    "    sectionContent = f\"Name of the Section: {key}\\n Definition: {legalSectionInformation[key]}\\n\"\n",
    "    # print(sectionContent)\n",
    "    question = generateInstructionInput(sectionContent)\n",
    "    answer = generateInstructionOutput(sectionContent, question)\n",
    "    dataPoint = {\"input\": question, \"output\": answer}\n",
    "    print(dataPoint)\n",
    "    instructionTuneDataset.append(dataPoint)"
   ]
  },
  {
   "cell_type": "code",
   "execution_count": 1,
   "metadata": {},
   "outputs": [],
   "source": [
    "import pandas as pd"
   ]
  },
  {
   "cell_type": "code",
   "execution_count": 2,
   "metadata": {},
   "outputs": [],
   "source": [
    "df = pd.read_csv(\"instruction tune data/instructionTuneDataset.csv\")"
   ]
  },
  {
   "cell_type": "code",
   "execution_count": 6,
   "metadata": {},
   "outputs": [],
   "source": [
    "instructionTuneDataset  = result = [{\"input\": row['input'], \"output\": row['output']} for _, row in df.iterrows()]"
   ]
  },
  {
   "cell_type": "code",
   "execution_count": 10,
   "metadata": {},
   "outputs": [],
   "source": [
    "import lamini\n",
    "import os\n",
    "from dotenv import load_dotenv, dotenv_values \n",
    "\n",
    "load_dotenv()\n",
    "lamini.api_key = os.getenv(\"LAMINI_API_KEY\")"
   ]
  },
  {
   "cell_type": "code",
   "execution_count": 13,
   "metadata": {},
   "outputs": [
    {
     "name": "stdout",
     "output_type": "stream",
     "text": [
      "Data pairs uploaded to local.\n",
      "\n",
      "Your dataset id is: 116007eae54a7aa8d102c3d46a6985afe4488145952ace2caf55b4aaa655bdb6 . Consider using this in the future to train using the same data. \n",
      "Eg: llm.train(data_or_dataset_id='116007eae54a7aa8d102c3d46a6985afe4488145952ace2caf55b4aaa655bdb6')\n",
      "Tuning job submitted! Check status of job 11793 here: https://api.lamini.ai/train/11793\n"
     ]
    },
    {
     "data": {
      "text/plain": [
       "{'job_id': 11793,\n",
       " 'status': 'CREATED',\n",
       " 'dataset_id': '116007eae54a7aa8d102c3d46a6985afe4488145952ace2caf55b4aaa655bdb6'}"
      ]
     },
     "execution_count": 13,
     "metadata": {},
     "output_type": "execute_result"
    }
   ],
   "source": [
    "from lamini import Lamini\n",
    "\n",
    "llm = Lamini(model_name='meta-llama/Llama-2-7b-hf')\n",
    "data = instructionTuneDataset\n",
    "llm.tune(data_or_dataset_id=data)"
   ]
  },
  {
   "cell_type": "code",
   "execution_count": 23,
   "metadata": {},
   "outputs": [
    {
     "name": "stdout",
     "output_type": "stream",
     "text": [
      "\n",
      "A corporation organized under the laws of a foreign country.\n",
      "A corporation organized under the laws of a state of the United States.\n",
      "A corporation organized under the laws of the United States.\n",
      "A corporation organized under the laws of the District of Columbia.\n",
      "A corporation organized under the laws of a foreign country is not considered to be a vessel of the United States under 18 USC 9.\n",
      "A corporation organized under the laws of a state of the United States is not considered to be a vessel of the United States under 18 USC 9.\n",
      "A corporation organized under the laws of the United States is not considered to be a vessel of the United States under 18 USC 9.\n",
      "A corporation organized under the laws of the District of Columbia is not considered to be a vessel of the United States under 18 USC 9.\n",
      "A corporation organized under the laws of a foreign country is considered to be a vessel of the United States under 18 USC 9.\n",
      "A corporation organized under the laws of a state of the United States is considered to be a vessel of the United States under 18 USC 9.\n",
      "A corporation organized under the laws of the United States is considered to be a vessel of the United States under 18 USC 9.\n",
      "A corporation organized under the laws of the District of Columbia is considered to be a vessel of the United States under 18 USC 9.\n",
      "A corporation organized under the laws of a foreign country is not considered to be a vessel of the United States under 18 USC 9.\n",
      "A corporation organized under the laws of a state of the United States is not considered to be a vessel of the United States under 18 USC 9.\n",
      "A corporation organized under the laws of the United States is not considered to be a vessel of the United States under 18 USC 9.\n",
      "A corporation organized under the laws of the District of Columbia is not considered to be a vessel of the United States under 18 USC 9.\n",
      "A corporation organized under the laws of a foreign country is considered to be a vessel of the United States under 18 USC 9.\n",
      "A corporation organized under the laws of a state of the United States is considered to be a vessel of the United States under 18 USC 9.\n",
      "A corporation organized under the laws of the United States is considered to be a vessel of the United States under 18 USC 9.\n",
      "A corporation organized under the laws of the District of Columbia is considered to be a vessel of the United States under 18 USC 9.\n",
      "A corporation organized under the laws of a foreign country is considered to be a vessel of the United States under 18 USC 9.\n",
      "A corporation organized under the laws of a state of the United States is considered to be a vessel of the United States under 18 USC 9.\n",
      "A corporation organized under the laws of the United States is considered to be a vessel of the United States under 18 USC 9.\n",
      "A corporation organized under the laws of the District of Columbia is considered to be a vessel of the United States under 18 USC 9.\n",
      "A corporation organized under the laws of a foreign country is considered to be a vessel of the United States under 18 USC 9.\n",
      "A corporation organized under the laws of a state of the United States is considered to be a vessel of the United States under 18 USC 9.\n",
      "A corporation organized under the laws of the United States is considered to be a vessel of the United States under 18 USC 9.\n",
      "A corporation organized under the laws of the District of Columbia is considered to be a vessel of the United States under 18 USC 9.\n",
      "A corporation organized under the laws of a foreign country is considered to be a vessel of the United States under 18 USC 9.\n",
      "A corporation organized under the laws of a state of the United States is considered to be a vessel of the United States under 18 USC 9.\n",
      "A corporation organized under the laws of the United States is considered to be a vessel of the United States under 18 USC 9.\n",
      "A corporation organized under the laws of the District of Columbia is considered to be a vessel of the United States under 18 USC 9.\n",
      "A corporation organized under the laws of a foreign country is considered to be a vessel of the United States under 18 USC 9.\n",
      "A corporation organized under the laws of a state of the United States is considered to be a vessel of the United States under 18 USC 9.\n",
      "A corporation organized under the laws of the United States is considered to be a vessel of the United States under 18 USC 9.\n",
      "A corporation organized under the laws of the District of Columbia is considered to be a vessel of the United States under 18 USC 9.\n",
      "A corporation organized under the laws of a foreign country is considered to be a vessel of the United States under 18 USC 9.\n",
      "A corporation organized under the laws of a state of the United States is considered to be a vessel of the United States under 18 USC 9.\n",
      "A corporation organized under the laws of the United States is considered to be a vessel of the United States under 18 USC 9.\n",
      "A corporation organized under the laws of the District of Columbia is considered to be a vessel of the United States under 18 USC 9.\n",
      "A corporation organized under the laws of a foreign country is considered to be a vessel of the United States under 18 USC 9.\n",
      "A corporation organized under the laws of a state of the United States is considered to be a vessel of the United States under 18 USC 9.\n",
      "A corporation organized under the laws of the United States is considered to be a vessel of the United States under 18 USC 9.\n",
      "A corporation organized under the laws of the District of Columbia is considered to be a vessel of the United States under 18 USC 9.\n",
      "A corporation organized under the laws of a foreign country is considered to be a vessel of the United States under 18 USC 9.\n",
      "A corporation organized under the laws of a state of the United States is considered to be a vessel of the United States under 18 USC 9.\n",
      "A corporation organized under the laws of the United States is considered to be a vessel of the United States under 18 USC 9.\n",
      "A corporation organized under the laws of the District of Columbia is considered to be a vessel of the United States under 18 USC 9.\n",
      "A corporation organized under the laws of a foreign country is\n"
     ]
    }
   ],
   "source": [
    "print(llm.generate(\"What type of entity can own a vessel that is considered to be a vessel of the United States under 18 USC 9?\"))"
   ]
  },
  {
   "cell_type": "code",
   "execution_count": 19,
   "metadata": {},
   "outputs": [
    {
     "name": "stdout",
     "output_type": "stream",
     "text": [
      "The term \"special maritime and territorial jurisdiction of the United States\" includes:\n",
      "\n",
      "(1) The high seas, any other waters within the admiralty and maritime jurisdiction of the United States and out of the jurisdiction of any particular State, and any vessel belonging in whole or in part to the United States or any citizen thereof, or to any corporation created by or under the laws of the United States, or of any State, Territory, District, or possession thereof, when such vessel is within the admiralty and maritime jurisdiction of the United States and out of the jurisdiction of any particular State.\n",
      "\n",
      "(2) Any vessel registered, licensed, or enrolled under the laws of the United States, and being on a voyage upon the waters of any of the Great Lakes, or any of the waters connecting them, or upon the Saint Lawrence River where the same constitutes the International Boundary Line.\n",
      "\n",
      "(3) Any lands reserved or acquired for the use of the United States, and under the exclusive or concurrent jurisdiction thereof, or any place purchased or otherwise acquired by the United States by consent of the legislature of the State in which the same shall be, for the erection of a fort, magazine, arsenal, dockyard, or other needful building.\n",
      "\n",
      "(4) Any island, rock, or key containing deposits of guano, which may, at the discretion of the President, be considered as appertaining to the United States.\n",
      "\n",
      "(5) Any aircraft belonging in whole or in part to the United States, or any citizen thereof, or to any corporation created by or under the laws of the United States, or any State, Territory, district, or possession thereof, while such aircraft is in flight over the high seas, or over any other waters within the admiralty and maritime jurisdiction of the United States and out of the jurisdiction of any particular State.\n",
      "\n",
      "(6) Any vehicle used or designed for flight or navigation in space and on the registry of the United States pursuant to the Treaty on Principles Governing the Activities of States in the Exploration and Use of Outer Space, Including the Moon and Other Celestial Bodies and the Convention on Registration of Objects Launched into Outer Space, while that vehicle is in flight.\n",
      "\n",
      "(7) Any place outside the jurisdiction of any nation with respect to an offense by or against a national of the United States.\n",
      "\n",
      "(8) To the extent permitted by international law, any foreign vessel during a voyage having a scheduled departure from or arrival in the United States with respect to an offense committed by or against a national of the United States.\n",
      "\n",
      "(9) With respect to offenses committed by or against a national of the United States as that term is used in section 101 of the Immigration and Nationality Act, (A) the premises of United States diplomatic, consular, military or other United States Government missions or entities in foreign States, including the buildings, parts of buildings, and land appurtenant or ancillary thereto or used for purposes of those missions or entities, irrespective of ownership; and (B) residences in foreign States and the land appurtenant or ancillary thereto, irrespective of ownership, used for purposes of those missions or entities or used by United States personnel assigned to those missions or entities.\n"
     ]
    }
   ],
   "source": [
    "def get_output(input_value):\n",
    "    for entry in data:\n",
    "        if entry[\"input\"] == input_value:\n",
    "            return entry[\"output\"]\n",
    "    return \"Output not found\"\n",
    "\n",
    "\n",
    "input_value = \"What is included within the term \\\"special maritime and territorial jurisdiction of the United States\\\"?\"\n",
    "output = get_output(input_value)\n",
    "print(output) "
   ]
  }
 ],
 "metadata": {
  "kernelspec": {
   "display_name": "base",
   "language": "python",
   "name": "python3"
  },
  "language_info": {
   "codemirror_mode": {
    "name": "ipython",
    "version": 3
   },
   "file_extension": ".py",
   "mimetype": "text/x-python",
   "name": "python",
   "nbconvert_exporter": "python",
   "pygments_lexer": "ipython3",
   "version": "3.11.8"
  }
 },
 "nbformat": 4,
 "nbformat_minor": 2
}
