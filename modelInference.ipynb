{
 "cells": [
  {
   "cell_type": "code",
   "execution_count": 7,
   "metadata": {},
   "outputs": [],
   "source": [
    "import google.generativeai as genai\n",
    "import os\n",
    "from dotenv import load_dotenv, dotenv_values \n",
    "from langchain_community.llms import Ollama\n",
    "\n",
    "\n",
    "def generateInstructionInput(extractedText):\n",
    "    question_prompt = f\"\"\"\n",
    "        Text: {extractedText}\n",
    "\n",
    "        Instruction:\n",
    "        Generate a question based only on the section's content. Do not give me multiple choice or true/false questions.\n",
    "        \"\"\"\n",
    "        \n",
    "    model = Ollama(model=\"llama3.1:8b-instruct-q2_K\")\n",
    "    llmResponse = model.invoke(question_prompt)\n",
    "    return llmResponse \n",
    "\n",
    "def generateInstructionOutput(extractedText, generated_question):\n",
    "    answer_prompt = f\"\"\"\n",
    "        Text: {extractedText}\n",
    "\n",
    "        Instruction:\n",
    "        Answer the following question based only on the section's content.\n",
    "\n",
    "        Question: {generated_question}\n",
    "        \"\"\"\n",
    "        \n",
    "    model = Ollama(model=\"llama3.1:8b-instruct-q2_K\")\n",
    "    llmResponse = model.invoke(answer_prompt)\n",
    "    return llmResponse"
   ]
  },
  {
   "cell_type": "code",
   "execution_count": 8,
   "metadata": {},
   "outputs": [],
   "source": [
    "section = \"\"\"18 USC 2: Principals:\n",
    "(a) Whoever commits an offense against the United States or aids, abets, counsels, commands, induces or procures its commission, is punishable as a principal.\n",
    "(b) Whoever willfully causes an act to be done which if directly performed by him or another would be an offense against the United States, is punishable as a principal.\n",
    "\"\"\""
   ]
  },
  {
   "cell_type": "code",
   "execution_count": 9,
   "metadata": {},
   "outputs": [
    {
     "name": "stdout",
     "output_type": "stream",
     "text": [
      "According to the provided text, the two circumstances that make someone punishable as a principal under 18 USC 2 are:\n",
      "\n",
      "1. Committing an offense against the United States (subsection (a)).\n",
      "2. Willfully causing an act to be done which would be an offense against the United States if directly performed by him or another (subsection (b)).\n"
     ]
    }
   ],
   "source": [
    "question = generateInstructionInput(section)\n",
    "answer = generateInstructionOutput(section, question)\n",
    "print(answer)"
   ]
  },
  {
   "cell_type": "code",
   "execution_count": 10,
   "metadata": {},
   "outputs": [
    {
     "name": "stdout",
     "output_type": "stream",
     "text": [
      "What are the two circumstances that make someone punishable as a principal according to this statute?\n"
     ]
    }
   ],
   "source": [
    "print(question)"
   ]
  }
 ],
 "metadata": {
  "kernelspec": {
   "display_name": "base",
   "language": "python",
   "name": "python3"
  },
  "language_info": {
   "codemirror_mode": {
    "name": "ipython",
    "version": 3
   },
   "file_extension": ".py",
   "mimetype": "text/x-python",
   "name": "python",
   "nbconvert_exporter": "python",
   "pygments_lexer": "ipython3",
   "version": "3.11.8"
  }
 },
 "nbformat": 4,
 "nbformat_minor": 2
}
